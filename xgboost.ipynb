{
 "cells": [
  {
   "cell_type": "code",
   "execution_count": 69,
   "metadata": {},
   "outputs": [],
   "source": [
    "from sklearn.model_selection import train_test_split, cross_validate, GridSearchCV, learning_curve\n",
    "from sklearn.preprocessing import StandardScaler, MinMaxScaler\n",
    "from dataWrangler import *\n",
    "from sklearn.ensemble import RandomForestRegressor\n",
    "from scipy import stats\n",
    "import pandas as pd\n",
    "from scrape_craigslist import Scrape\n",
    "from predictions import *\n",
    "import urllib.request\n",
    "import warnings\n",
    "warnings.filterwarnings('ignore')\n",
    "import requests\n",
    "import datetime\n",
    "import math\n",
    "import glob   \n",
    "from xgboost import XGBRegressor\n",
    "import os\n",
    "import io\n",
    "import re\n",
    "import numpy as np"
   ]
  },
  {
   "cell_type": "code",
   "execution_count": 70,
   "metadata": {},
   "outputs": [],
   "source": [
    "li=[]\n",
    "for filename in glob.glob(r\"..\\UsedCar-PriceEstimator\\data\\*.csv\"):\n",
    "    collection = pd.read_csv(filename, index_col=None, header=0)\n",
    "    li.append(collection)\n",
    "frame = pd.concat(li, axis=0, ignore_index=True)\n"
   ]
  },
  {
   "cell_type": "code",
   "execution_count": 71,
   "metadata": {},
   "outputs": [],
   "source": [
    "frame = pd.concat(li, axis=0, ignore_index=True)"
   ]
  },
  {
   "cell_type": "code",
   "execution_count": 72,
   "metadata": {},
   "outputs": [],
   "source": [
    "Link='https://sfbay.craigslist.org/eby/cto/d/pleasant-hill-1997-toyota-camry-le/7340759313.html'\n",
    "lis=[]\n",
    "\n",
    "link=[Link]\n",
    "raw=Scrape(link)\n",
    "df1=Spell(raw)\n",
    "df2=Replace(df1)\n",
    "df3=Process(df2)\n",
    "inputcar=df3.iloc[0,0]\n",
    "df_spelled=Spell(frame)\n",
    "df_replaced=Replace(df_spelled)\n",
    "proccessed=Process(df_replaced,inputcar)\n",
    "df=Outliers_light(proccessed)\n",
    "df=delete_outliers(df)"
   ]
  },
  {
   "cell_type": "code",
   "execution_count": 73,
   "metadata": {},
   "outputs": [],
   "source": [
    "first_len=len(df.columns)"
   ]
  },
  {
   "cell_type": "code",
   "execution_count": 74,
   "metadata": {},
   "outputs": [],
   "source": [
    "#get_dummies\n",
    "df['score:'] = df['score:'].astype(int)\n",
    "df['score:'] = df['score:'].astype(str)\n",
    "df=pd.get_dummies(df)"
   ]
  },
  {
   "cell_type": "code",
   "execution_count": 75,
   "metadata": {},
   "outputs": [],
   "source": [
    "second_len=len(df.columns)"
   ]
  },
  {
   "cell_type": "code",
   "execution_count": 76,
   "metadata": {},
   "outputs": [
    {
     "data": {
      "text/plain": [
       "(5, 8)"
      ]
     },
     "execution_count": 76,
     "metadata": {},
     "output_type": "execute_result"
    }
   ],
   "source": [
    "first_len,second_len"
   ]
  },
  {
   "cell_type": "code",
   "execution_count": 79,
   "metadata": {},
   "outputs": [
    {
     "data": {
      "text/html": [
       "<div>\n",
       "<style scoped>\n",
       "    .dataframe tbody tr th:only-of-type {\n",
       "        vertical-align: middle;\n",
       "    }\n",
       "\n",
       "    .dataframe tbody tr th {\n",
       "        vertical-align: top;\n",
       "    }\n",
       "\n",
       "    .dataframe thead th {\n",
       "        text-align: right;\n",
       "    }\n",
       "</style>\n",
       "<table border=\"1\" class=\"dataframe\">\n",
       "  <thead>\n",
       "    <tr style=\"text-align: right;\">\n",
       "      <th></th>\n",
       "      <th>year:</th>\n",
       "      <th>odometer:</th>\n",
       "      <th>cylinders:</th>\n",
       "      <th>score:_0</th>\n",
       "      <th>score:_1</th>\n",
       "      <th>score:_2</th>\n",
       "      <th>score:_3</th>\n",
       "    </tr>\n",
       "  </thead>\n",
       "  <tbody>\n",
       "    <tr>\n",
       "      <th>0</th>\n",
       "      <td>13.0</td>\n",
       "      <td>166000.0</td>\n",
       "      <td>4.0</td>\n",
       "      <td>0</td>\n",
       "      <td>0</td>\n",
       "      <td>1</td>\n",
       "      <td>0</td>\n",
       "    </tr>\n",
       "  </tbody>\n",
       "</table>\n",
       "</div>"
      ],
      "text/plain": [
       "   year:  odometer:  cylinders:  score:_0  score:_1  score:_2  score:_3\n",
       "0   13.0   166000.0         4.0         0         0         1         0"
      ]
     },
     "execution_count": 79,
     "metadata": {},
     "output_type": "execute_result"
    }
   ],
   "source": [
    "X=df.drop(columns='price:')\n",
    "y=df['price:']\n",
    "train_features, test_features, train_labels, test_labels = \\\n",
    "train_test_split(X, y, test_size = 0.05, random_state = 3)\n",
    "#n_estimators down below can be specified\n",
    "#max_depth\n",
    "\n",
    "scaler = StandardScaler()\n",
    "scaler.fit(train_features)\n",
    "scaler.transform(train_features)\n",
    "X.head(1)"
   ]
  },
  {
   "cell_type": "code",
   "execution_count": 80,
   "metadata": {},
   "outputs": [
    {
     "name": "stdout",
     "output_type": "stream",
     "text": [
      "toyota camry Accuracy: 97.81 %.\n"
     ]
    },
    {
     "data": {
      "text/plain": [
       "('predicted:', 2173, 'actual:', 3600)"
      ]
     },
     "execution_count": 80,
     "metadata": {},
     "output_type": "execute_result"
    }
   ],
   "source": [
    "\n",
    "\n",
    "rf =  XGBRegressor(learning_rate=0.31,gamma=1,max_depth=12,\n",
    "                  eval_metric='mlogloss',n_estimators=100, eta=0.6, \n",
    "                   subsample=0.2, colsample_bytree=0.8)\n",
    "\n",
    "scaler.transform(test_features)\n",
    "rf.fit(train_features, train_labels);\n",
    "# Calculate mean absolute percentage error (MAPE)\n",
    "y_pred=rf.predict(test_features)\n",
    "errors=np.abs((test_labels - y_pred))\n",
    "mape = 100 * (errors / test_labels)\n",
    "accuracy = 100 - np.mean(mape)\n",
    "print(f'{inputcar} Accuracy:', round(accuracy, 2), '%.')\n",
    "        \n",
    "        \n",
    "if(len(df.columns)>=6):\n",
    "    x_feat=df3.drop(['Make&Model','price:'],axis=1)\n",
    "if(len(df.columns)<6):\n",
    "    x_feat=df3.drop(['Make&Model','cylinders:','price:'],axis=1)\n",
    "    \n",
    "x_feat=sample_dummies(x_feat,X)\n",
    "\n",
    "scaler.transform(x_feat)\n",
    "y_actual=df3[['price:']]\n",
    "result=\"predicted:\",int(2**rf.predict(x_feat)[0]),\"actual:\",y_actual.values[0][0]\n",
    "result\n"
   ]
  },
  {
   "cell_type": "code",
   "execution_count": 47,
   "metadata": {},
   "outputs": [],
   "source": [
    "def sample_dummies(x_feat,X):\n",
    "    x_feat['score:_0']=0\n",
    "    x_feat['score:_1']=0\n",
    "    x_feat['score:_2']=0\n",
    "    x_feat['score:_3']=0\n",
    "    \n",
    "    for x in x_feat.values:\n",
    "        if(x[1]==0):\n",
    "            x_feat['score:_0']=0\n",
    "        if(x[1]==1):\n",
    "            x_feat['score:_1']=1\n",
    "        if(x[1]==2):\n",
    "            x_feat['score:_2']=1\n",
    "        if(x[1]==3):\n",
    "            x_feat['score:_3']=1\n",
    "    \n",
    "    extra_columns=list((set(x_feat.columns)-set(X.columns)))\n",
    "    x_feat.drop(columns=extra_columns,inplace=True)\n",
    "    x_feat=x_feat.reset_index(drop=True)\n",
    "    return x_feat"
   ]
  },
  {
   "cell_type": "code",
   "execution_count": null,
   "metadata": {},
   "outputs": [],
   "source": []
  },
  {
   "cell_type": "code",
   "execution_count": 48,
   "metadata": {},
   "outputs": [
    {
     "data": {
      "text/html": [
       "<div>\n",
       "<style scoped>\n",
       "    .dataframe tbody tr th:only-of-type {\n",
       "        vertical-align: middle;\n",
       "    }\n",
       "\n",
       "    .dataframe tbody tr th {\n",
       "        vertical-align: top;\n",
       "    }\n",
       "\n",
       "    .dataframe thead th {\n",
       "        text-align: right;\n",
       "    }\n",
       "</style>\n",
       "<table border=\"1\" class=\"dataframe\">\n",
       "  <thead>\n",
       "    <tr style=\"text-align: right;\">\n",
       "      <th></th>\n",
       "      <th>year:</th>\n",
       "      <th>odometer:</th>\n",
       "      <th>score:_2</th>\n",
       "      <th>score:_3</th>\n",
       "    </tr>\n",
       "  </thead>\n",
       "  <tbody>\n",
       "    <tr>\n",
       "      <th>0</th>\n",
       "      <td>6</td>\n",
       "      <td>29900</td>\n",
       "      <td>0</td>\n",
       "      <td>0</td>\n",
       "    </tr>\n",
       "  </tbody>\n",
       "</table>\n",
       "</div>"
      ],
      "text/plain": [
       "   year:  odometer:  score:_2  score:_3\n",
       "0      6      29900         0         0"
      ]
     },
     "execution_count": 48,
     "metadata": {},
     "output_type": "execute_result"
    }
   ],
   "source": [
    "x_feat"
   ]
  },
  {
   "cell_type": "code",
   "execution_count": null,
   "metadata": {},
   "outputs": [],
   "source": [
    "X.head(1)"
   ]
  },
  {
   "cell_type": "code",
   "execution_count": 140,
   "metadata": {},
   "outputs": [],
   "source": [
    "rf??"
   ]
  },
  {
   "cell_type": "code",
   "execution_count": null,
   "metadata": {},
   "outputs": [],
   "source": []
  }
 ],
 "metadata": {
  "kernelspec": {
   "display_name": "Python 3",
   "language": "python",
   "name": "python3"
  },
  "language_info": {
   "codemirror_mode": {
    "name": "ipython",
    "version": 3
   },
   "file_extension": ".py",
   "mimetype": "text/x-python",
   "name": "python",
   "nbconvert_exporter": "python",
   "pygments_lexer": "ipython3",
   "version": "3.7.0"
  }
 },
 "nbformat": 4,
 "nbformat_minor": 4
}
