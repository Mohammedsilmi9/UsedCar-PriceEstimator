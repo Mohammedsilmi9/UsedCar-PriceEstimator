{
 "cells": [
  {
   "cell_type": "code",
   "execution_count": 68,
   "metadata": {},
   "outputs": [],
   "source": [
    "from sklearn.model_selection import train_test_split, cross_validate, GridSearchCV, learning_curve\n",
    "from sklearn.preprocessing import StandardScaler, MinMaxScaler\n",
    "from dataWrangler import *\n",
    "from sklearn.ensemble import RandomForestRegressor\n",
    "from scipy import stats\n",
    "import pandas as pd\n",
    "from scrape_craigslist import Scrape\n",
    "from predictions import *\n",
    "import urllib.request\n",
    "import warnings\n",
    "warnings.filterwarnings('ignore')\n",
    "import requests\n",
    "import datetime\n",
    "import math\n",
    "import glob   \n",
    "from xgboost import XGBRegressor\n",
    "import os\n",
    "import io\n",
    "import re\n",
    "import numpy as np"
   ]
  },
  {
   "cell_type": "code",
   "execution_count": 87,
   "metadata": {},
   "outputs": [],
   "source": [
    "li=[]\n",
    "for filename in glob.glob(r\"..\\UsedCar-PriceEstimator\\data\\*.csv\"):\n",
    "    collection = pd.read_csv(filename, index_col=None, header=0)\n",
    "    li.append(collection)\n",
    "frame = pd.concat(li, axis=0, ignore_index=True)\n",
    "Link='https://sfbay.craigslist.org/eby/cto/d/vallejo-2010-bmw-x5-awd-30l-150k-miles/7334531890.html'\n",
    "lis=[]\n",
    "\n",
    "link=[Link]\n",
    "raw=Scrape(link)\n",
    "df1=Spell(raw)\n",
    "df2=Replace(df1)\n",
    "df3=Process(df2)\n",
    "inputcar=df3.iloc[0,0]\n",
    "df_spelled=Spell(frame)\n",
    "df_replaced=Replace(df_spelled)\n",
    "proccessed=Process(df_replaced,inputcar)\n",
    "df=Outliers_light(proccessed)\n",
    "df=delete_outliers(df)"
   ]
  },
  {
   "cell_type": "code",
   "execution_count": 88,
   "metadata": {},
   "outputs": [],
   "source": [
    "first_len=len(df.columns)"
   ]
  },
  {
   "cell_type": "code",
   "execution_count": 89,
   "metadata": {},
   "outputs": [],
   "source": [
    "#get_dummies\n",
    "df['score:'] = df['score:'].astype(int)\n",
    "df['score:'] = df['score:'].astype(str)\n",
    "df=pd.get_dummies(df)"
   ]
  },
  {
   "cell_type": "code",
   "execution_count": 90,
   "metadata": {},
   "outputs": [],
   "source": [
    "second_len=len(df.columns)"
   ]
  },
  {
   "cell_type": "code",
   "execution_count": 91,
   "metadata": {},
   "outputs": [
    {
     "data": {
      "text/plain": [
       "(5, 8)"
      ]
     },
     "execution_count": 91,
     "metadata": {},
     "output_type": "execute_result"
    }
   ],
   "source": [
    "first_len,second_len"
   ]
  },
  {
   "cell_type": "code",
   "execution_count": 92,
   "metadata": {},
   "outputs": [
    {
     "name": "stdout",
     "output_type": "stream",
     "text": [
      "bmw x5 Accuracy: 97.25 %.\n"
     ]
    },
    {
     "data": {
      "text/plain": [
       "('predicted:', 10235, 'actual:', 6450)"
      ]
     },
     "execution_count": 92,
     "metadata": {},
     "output_type": "execute_result"
    }
   ],
   "source": [
    "X=df.drop(columns='price:')\n",
    "y=df['price:']\n",
    "train_features, test_features, train_labels, test_labels = \\\n",
    "train_test_split(X, y, test_size = 0.05, random_state = 3)\n",
    "#n_estimators down below can be specified\n",
    "#max_depth\n",
    "\n",
    "scaler = StandardScaler()\n",
    "scaler.fit(train_features)\n",
    "scaler.transform(train_features)\n",
    "\n",
    "rf =  XGBRegressor(learning_rate=0.41,gamma=1,max_depth=4,\n",
    "                  eval_metric='mlogloss',n_estimators=10, eta=0.6, \n",
    "                   subsample=0.2, colsample_bytree=0.8)\n",
    "\n",
    "scaler.transform(test_features)\n",
    "rf.fit(train_features, train_labels);\n",
    "# Calculate mean absolute percentage error (MAPE)\n",
    "y_pred=rf.predict(test_features)\n",
    "errors=np.abs((test_labels - y_pred))\n",
    "mape = 100 * (errors / test_labels)\n",
    "accuracy = 100 - np.mean(mape)\n",
    "print(f'{inputcar} Accuracy:', round(accuracy, 2), '%.')\n",
    "        \n",
    "        \n",
    "if(len(df.columns)>6):\n",
    "    x_feat=df3.drop(['Make&Model','price:'],axis=1)\n",
    "if(len(df.columns)<=6):\n",
    "    x_feat=df3.drop(['Make&Model','cylinders:','price:'],axis=1)\n",
    "    \n",
    "x_feat=sample_dummies(x_feat,X)\n",
    "\n",
    "scaler.transform(x_feat)\n",
    "y_actual=df3[['price:']]\n",
    "result=\"predicted:\",int(2**rf.predict(x_feat)[0]),\"actual:\",y_actual.values[0][0]\n",
    "result\n"
   ]
  },
  {
   "cell_type": "code",
   "execution_count": 93,
   "metadata": {},
   "outputs": [],
   "source": [
    "def sample_dummies(x_feat,X):\n",
    "    x_feat['score:_0']=0\n",
    "    x_feat['score:_1']=0\n",
    "    x_feat['score:_2']=0\n",
    "    x_feat['score:_3']=0\n",
    "    \n",
    "    for x in x_feat.values:\n",
    "        if(x[1]==0):\n",
    "            x_feat['score:_0']=0\n",
    "        if(x[1]==1):\n",
    "            x_feat['score:_1']=1\n",
    "        if(x[1]==2):\n",
    "            x_feat['score:_2']=1\n",
    "        if(x[1]==3):\n",
    "            x_feat['score:_3']=1\n",
    "    \n",
    "    extra_columns=list((set(x_feat.columns)-set(X.columns)))\n",
    "    x_feat.drop(columns=extra_columns,inplace=True)\n",
    "    x_feat=x_feat.reset_index(drop=True)\n",
    "    return x_feat"
   ]
  },
  {
   "cell_type": "code",
   "execution_count": null,
   "metadata": {},
   "outputs": [],
   "source": []
  },
  {
   "cell_type": "code",
   "execution_count": null,
   "metadata": {},
   "outputs": [],
   "source": [
    "x_feat"
   ]
  },
  {
   "cell_type": "code",
   "execution_count": null,
   "metadata": {},
   "outputs": [],
   "source": [
    "X.head(1)"
   ]
  },
  {
   "cell_type": "code",
   "execution_count": 140,
   "metadata": {},
   "outputs": [],
   "source": [
    "rf??"
   ]
  },
  {
   "cell_type": "code",
   "execution_count": null,
   "metadata": {},
   "outputs": [],
   "source": []
  }
 ],
 "metadata": {
  "kernelspec": {
   "display_name": "Python 3",
   "language": "python",
   "name": "python3"
  },
  "language_info": {
   "codemirror_mode": {
    "name": "ipython",
    "version": 3
   },
   "file_extension": ".py",
   "mimetype": "text/x-python",
   "name": "python",
   "nbconvert_exporter": "python",
   "pygments_lexer": "ipython3",
   "version": "3.7.0"
  }
 },
 "nbformat": 4,
 "nbformat_minor": 4
}
