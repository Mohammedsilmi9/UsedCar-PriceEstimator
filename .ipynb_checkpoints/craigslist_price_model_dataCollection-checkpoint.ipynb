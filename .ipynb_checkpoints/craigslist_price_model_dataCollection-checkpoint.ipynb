{
 "cells": [
  {
   "cell_type": "code",
   "execution_count": 95,
   "metadata": {},
   "outputs": [],
   "source": [
    "from bs4 import BeautifulSoup\n",
    "from pandas import DataFrame\n",
    "from time import sleep\n",
    "import urllib.request\n",
    "import pandas as pd\n",
    "import numpy as np\n",
    "import requests\n",
    "import datetime\n",
    "import requests\n",
    "import os\n",
    "import io\n",
    "import re"
   ]
  },
  {
   "cell_type": "code",
   "execution_count": null,
   "metadata": {},
   "outputs": [],
   "source": [
    "#locations=['sandiego','losangeles','monterey']"
   ]
  },
  {
   "cell_type": "code",
   "execution_count": 99,
   "metadata": {},
   "outputs": [],
   "source": [
    "url = f'https://fresno.craigslist.org/d/cars-trucks-by-owner/search/cto'\n",
    "Links=[]\n",
    "page = requests.get(url)\n",
    "soup = BeautifulSoup(page.text, \"html.parser\")\n",
    "total_posts=int(soup.find(\"span\", {\"class\": \"total\"}).text)\n",
    "fraction=total_posts%120"
   ]
  },
  {
   "cell_type": "code",
   "execution_count": 100,
   "metadata": {},
   "outputs": [],
   "source": [
    "\n",
    "final_links=[]\n",
    "\n",
    "for i in range(0,total_posts-fraction,120):\n",
    "    url = f'https://fresno.craigslist.org/d/cars-trucks-by-owner/search/cto?s={i}'\n",
    "    Links=[]\n",
    "    page = requests.get(url)\n",
    "    soup = BeautifulSoup(page.text, \"html.parser\")\n",
    "    for link in soup.findAll('a', attrs={'href': re.compile(\"^https://\")}):\n",
    "        Links.append(link.get('href'))\n",
    "    \n",
    "    for i in range(9, 249):\n",
    "        if i%2==0:\n",
    "            final_links.append(Links[i])\n",
    "            \n",
    "\n"
   ]
  },
  {
   "cell_type": "code",
   "execution_count": 101,
   "metadata": {},
   "outputs": [
    {
     "data": {
      "text/plain": [
       "960"
      ]
     },
     "execution_count": 101,
     "metadata": {},
     "output_type": "execute_result"
    }
   ],
   "source": [
    "len(final_links)"
   ]
  },
  {
   "cell_type": "code",
   "execution_count": 102,
   "metadata": {},
   "outputs": [],
   "source": [
    "spec_list=[]\n",
    "title_list=[]\n",
    "price_list=[]\n",
    "\n",
    "for lin in final_links:\n",
    "    try:\n",
    "        page = requests.get(lin)\n",
    "        soup = BeautifulSoup(page.text, \"html.parser\")\n",
    "        spec_list.append(soup.find_all(\"p\", {\"class\": \"attrgroup\"})[1].text.strip('\\n').replace(\"\\n\",\" \").split(\" \"))\n",
    "        title_list.append(soup.find_all(\"p\", {\"class\": \"attrgroup\"})[0].text.strip('\\n'))\n",
    "        price_list.append(str(soup.find(\"span\", {\"class\": \"price\"})).strip('$').replace(',',\"\"))\n",
    "    except:\n",
    "        continue\n"
   ]
  },
  {
   "cell_type": "code",
   "execution_count": 103,
   "metadata": {},
   "outputs": [],
   "source": [
    "df_=pd.DataFrame(columns=['year:','make:','model:','trim:','VIN:','condition:','odometer:',\n",
    "                          'cylinders:','color:','transmission:',\n",
    "                          'type:','status:','drive:','fuel:','price:'])\n"
   ]
  },
  {
   "cell_type": "code",
   "execution_count": 104,
   "metadata": {},
   "outputs": [],
   "source": [
    "for i,title in enumerate(title_list):\n",
    "    if(len(title.split())>=4 and not(title.split()[1].isnumeric())):\n",
    "            df_.loc[f'{i}','year:']=title.split()[0]\n",
    "            df_.loc[f'{i}','make:']=title.split()[1]\n",
    "            df_.loc[f'{i}','model:']=title.split()[2]\n",
    "            df_.loc[f'{i}','trim:']=title.split()[3]\n",
    "    if(len(title.split())==3 and not(title.split()[1].isnumeric())):\n",
    "            df_.loc[f'{i}','year:']=title.split()[0]\n",
    "            df_.loc[f'{i}','make:']=title.split()[1]\n",
    "            df_.loc[f'{i}','model:']=title.split()[2]\n",
    "            df_.loc[f'{i}','trim:']= np.nan\n",
    "    if(len(title.split())==4 and title.split()[1].isnumeric()):\n",
    "            df_.loc[f'{i}','year:']=title.split()[0]\n",
    "            df_.loc[f'{i}','make:']=title.split()[2]\n",
    "            df_.loc[f'{i}','model:']=title.split()[3]\n",
    "            df_.loc[f'{i}','trim:']= np.nan\n",
    "    if(len(title.split())>=5 and title.split()[1].isnumeric()):\n",
    "            df_.loc[f'{i}','year:']=title.split()[0]\n",
    "            df_.loc[f'{i}','make:']=title.split()[2]\n",
    "            df_.loc[f'{i}','model:']=title.split()[3]\n",
    "            df_.loc[f'{i}','trim:']= title.split()[4]\n",
    "            "
   ]
  },
  {
   "cell_type": "code",
   "execution_count": 105,
   "metadata": {},
   "outputs": [],
   "source": [
    "for i,temp in enumerate(spec_list):\n",
    "    for word in temp:\n",
    "        if(word=='VIN:'):\n",
    "            df_.loc[f'{i}','VIN:']=temp[temp.index(word)+1]    \n",
    "        if(word=='condition:'):\n",
    "             df_.loc[f'{i}','condition:']=temp[temp.index(word)+1] \n",
    "        if(word=='odometer:'):\n",
    "            df_.loc[f'{i}','odometer:']=temp[temp.index(word)+1]\n",
    "        if(word=='cylinders:'):\n",
    "             df_.loc[f'{i}','cylinders:']=temp[temp.index(word)+1]\n",
    "        if(word=='color:'):\n",
    "             df_.loc[f'{i}','color:']=temp[temp.index(word)+1]\n",
    "        if(word=='transmission:'):\n",
    "             df_.loc[f'{i}','transmission:']=temp[temp.index(word)+1]\n",
    "        if(word=='type:'):\n",
    "             df_.loc[f'{i}','type:']=temp[temp.index(word)+1]\n",
    "        if(word=='status:'):\n",
    "             df_.loc[f'{i}','status:']=temp[temp.index(word)+1]\n",
    "        if(word=='drive:'):\n",
    "             df_.loc[f'{i}','drive:']=temp[temp.index(word)+1] \n",
    "        if(word=='fuel:'):\n",
    "             df_.loc[f'{i}','fuel:']=temp[temp.index(word)+1]\n",
    "                          "
   ]
  },
  {
   "cell_type": "code",
   "execution_count": 106,
   "metadata": {
    "scrolled": true
   },
   "outputs": [],
   "source": [
    "for i,p in enumerate(price_list):\n",
    "    df_.loc[f'{i}','price:']=p"
   ]
  },
  {
   "cell_type": "code",
   "execution_count": 107,
   "metadata": {},
   "outputs": [],
   "source": [
    "df_['price:']=df_['price:'].apply(lambda x: x[21:-7])\n",
    "df_['price:'] = pd.to_numeric(df_['price:'])\n",
    "df_['year:'] = pd.to_numeric(df_['year:'])\n",
    "df_['odometer:'] = pd.to_numeric(df_['odometer:'])\n"
   ]
  },
  {
   "cell_type": "code",
   "execution_count": 108,
   "metadata": {},
   "outputs": [
    {
     "data": {
      "text/html": [
       "<div>\n",
       "<style scoped>\n",
       "    .dataframe tbody tr th:only-of-type {\n",
       "        vertical-align: middle;\n",
       "    }\n",
       "\n",
       "    .dataframe tbody tr th {\n",
       "        vertical-align: top;\n",
       "    }\n",
       "\n",
       "    .dataframe thead th {\n",
       "        text-align: right;\n",
       "    }\n",
       "</style>\n",
       "<table border=\"1\" class=\"dataframe\">\n",
       "  <thead>\n",
       "    <tr style=\"text-align: right;\">\n",
       "      <th></th>\n",
       "      <th>year:</th>\n",
       "      <th>odometer:</th>\n",
       "      <th>price:</th>\n",
       "    </tr>\n",
       "  </thead>\n",
       "  <tbody>\n",
       "    <tr>\n",
       "      <th>count</th>\n",
       "      <td>923.000000</td>\n",
       "      <td>9.600000e+02</td>\n",
       "      <td>958.000000</td>\n",
       "    </tr>\n",
       "    <tr>\n",
       "      <th>mean</th>\n",
       "      <td>2004.375948</td>\n",
       "      <td>1.445472e+05</td>\n",
       "      <td>10723.407098</td>\n",
       "    </tr>\n",
       "    <tr>\n",
       "      <th>std</th>\n",
       "      <td>13.516622</td>\n",
       "      <td>4.591699e+05</td>\n",
       "      <td>10951.880967</td>\n",
       "    </tr>\n",
       "    <tr>\n",
       "      <th>min</th>\n",
       "      <td>1923.000000</td>\n",
       "      <td>0.000000e+00</td>\n",
       "      <td>1.000000</td>\n",
       "    </tr>\n",
       "    <tr>\n",
       "      <th>25%</th>\n",
       "      <td>2002.000000</td>\n",
       "      <td>7.500000e+04</td>\n",
       "      <td>4000.000000</td>\n",
       "    </tr>\n",
       "    <tr>\n",
       "      <th>50%</th>\n",
       "      <td>2007.000000</td>\n",
       "      <td>1.200000e+05</td>\n",
       "      <td>7350.000000</td>\n",
       "    </tr>\n",
       "    <tr>\n",
       "      <th>75%</th>\n",
       "      <td>2013.000000</td>\n",
       "      <td>1.680000e+05</td>\n",
       "      <td>13725.000000</td>\n",
       "    </tr>\n",
       "    <tr>\n",
       "      <th>max</th>\n",
       "      <td>2020.000000</td>\n",
       "      <td>1.000000e+07</td>\n",
       "      <td>125000.000000</td>\n",
       "    </tr>\n",
       "  </tbody>\n",
       "</table>\n",
       "</div>"
      ],
      "text/plain": [
       "             year:     odometer:         price:\n",
       "count   923.000000  9.600000e+02     958.000000\n",
       "mean   2004.375948  1.445472e+05   10723.407098\n",
       "std      13.516622  4.591699e+05   10951.880967\n",
       "min    1923.000000  0.000000e+00       1.000000\n",
       "25%    2002.000000  7.500000e+04    4000.000000\n",
       "50%    2007.000000  1.200000e+05    7350.000000\n",
       "75%    2013.000000  1.680000e+05   13725.000000\n",
       "max    2020.000000  1.000000e+07  125000.000000"
      ]
     },
     "execution_count": 108,
     "metadata": {},
     "output_type": "execute_result"
    }
   ],
   "source": [
    "df_.describe()"
   ]
  },
  {
   "cell_type": "code",
   "execution_count": 127,
   "metadata": {},
   "outputs": [
    {
     "data": {
      "text/plain": [
       "array(['Mercedes', 'chevrolet', 'dodge', 'Subaru', 'mercedes', 'Nissan',\n",
       "       'Bmw', 'Mazda', 'Toyota', 'ram', 'Ford', 'Kia', 'Honda', 'Gmc',\n",
       "       'pontiac', 'saturn', 'hyundai', 'nissan', 'Lexus', 'cadillac',\n",
       "       'Hyundai', 'suzuki', 'Cadillac', 'Jeep', 'acura', 'Mini',\n",
       "       'Volkswagen', 'buick', 'Hudson', 'Dodge', 'scion', 'subaru',\n",
       "       'volvo', 'Galaxie', 'volkswagen', 'Chaey', 'Camaro',\n",
       "       'freightliner', 'yamaha', 'mercury', 'chrysler', 'Scion',\n",
       "       'Mercury', 'G6', 'Chrysler', 'SE', 'mitsubishi', 'Isuzu', 'Acura',\n",
       "       'Ram', 'American', 'Volvo', 'Audi', 'chysler', 'NX200t', 'Model',\n",
       "       'fiat', 'Plymouth', 'toyota/camry', 'harley', 'huyndai', 'Hummer',\n",
       "       'Tesla', 'jaguar', 'International', 'Ford.', 'Saturn',\n",
       "       'volkswagon', 'Datsun', 'Lincoln', 'GRAND', 'lincoln', 'plymouth',\n",
       "       'Studebaker', 'Cheyenne', 'Mitsubishi', 'porsche', 'Hyudai',\n",
       "       'Buick', 'lamborghini', 'infiniti', nan], dtype=object)"
      ]
     },
     "execution_count": 127,
     "metadata": {},
     "output_type": "execute_result"
    }
   ],
   "source": [
    "df_['make:'].unique()"
   ]
  },
  {
   "cell_type": "code",
   "execution_count": 125,
   "metadata": {},
   "outputs": [],
   "source": [
    "df_['make:'].replace(['mazda','MAZDA'],'Mazda',inplace=True)\n",
    "df_['make:'].replace(['MITSUBISHI'],'mitsubishi',inplace=True)\n",
    "df_['make:'].replace(['mercedez','mercedes-benz','Mercedes','Benz','MERCEDES','Merceds','MERCEDES-BENZ',\n",
    "                      'Mercedes-Benz','mersedes'],'Mercedes',inplace=True)\n",
    "df_['make:'].replace(['Chevi','CHEVY','Chevrolet','chevorlet','chevy','CHEVRLET','Cheverolet','Chevy','Chev',\n",
    "                      'CHEVROLET','chev'],'chevrolet',inplace=True)\n",
    "df_['make:'].replace(['Vw','VW','vw','VOLKSWAGEN','V.W'],'Volkswagen',inplace=True)\n",
    "df_['make:'].replace(['Toyot','Toyoda','TOYOTA','toyota'],'Toyota',inplace=True)\n",
    "df_['make:'].replace(['mini','MINI'],'Mini',inplace=True)\n",
    "df_['make:'].replace(['izuzu','isuzu'],'Isuzu',inplace=True)\n",
    "df_['make:'].replace(['Hunday','hundai','hyundia','HYUNDAI'],'Hyundai',inplace=True)\n",
    "df_['make:'].replace(['bmw','bimmer','BMW'],'Bmw',inplace=True)\n",
    "df_['make:'].replace(['audi','AUDI'],'Audi',inplace=True)\n",
    "df_['make:'].replace(['LEXUS','lexus'],'Lexus',inplace=True)\n",
    "df_['make:'].replace(['KIA','kia'],'Kia',inplace=True)\n",
    "df_['make:'].replace(['ford','FORD','for'],'Ford',inplace=True)\n",
    "df_['make:'].replace(['GMC','gmc','Gmc'],'Gmc',inplace=True)\n",
    "df_['make:'].replace(['HONDA','Houda','honda'],'Honda',inplace=True)\n",
    "df_['make:'].replace(['jeep','Jeeb','JEEP'],'Jeep',inplace=True)\n",
    "df_['make:'].replace(['HUMMER','hummer'],'Hummer',inplace=True)\n",
    "#df_['make:'].replace([],'',inplace=True)\n",
    "\n"
   ]
  },
  {
   "cell_type": "code",
   "execution_count": 126,
   "metadata": {},
   "outputs": [
    {
     "data": {
      "text/plain": [
       "81"
      ]
     },
     "execution_count": 126,
     "metadata": {},
     "output_type": "execute_result"
    }
   ],
   "source": [
    "df_['make:'].nunique()"
   ]
  },
  {
   "cell_type": "code",
   "execution_count": 112,
   "metadata": {},
   "outputs": [
    {
     "name": "stdout",
     "output_type": "stream",
     "text": [
      "<class 'pandas.core.frame.DataFrame'>\n",
      "Index: 960 entries, 0 to 931\n",
      "Data columns (total 15 columns):\n",
      " #   Column         Non-Null Count  Dtype  \n",
      "---  ------         --------------  -----  \n",
      " 0   year:          923 non-null    float64\n",
      " 1   make:          923 non-null    object \n",
      " 2   model:         923 non-null    object \n",
      " 3   trim:          396 non-null    object \n",
      " 4   VIN:           54 non-null     object \n",
      " 5   condition:     680 non-null    object \n",
      " 6   odometer:      960 non-null    int64  \n",
      " 7   cylinders:     650 non-null    object \n",
      " 8   color:         574 non-null    object \n",
      " 9   transmission:  960 non-null    object \n",
      " 10  type:          521 non-null    object \n",
      " 11  status:        960 non-null    object \n",
      " 12  drive:         498 non-null    object \n",
      " 13  fuel:          960 non-null    object \n",
      " 14  price:         958 non-null    float64\n",
      "dtypes: float64(2), int64(1), object(12)\n",
      "memory usage: 160.0+ KB\n"
     ]
    }
   ],
   "source": [
    "df_.info()"
   ]
  },
  {
   "cell_type": "code",
   "execution_count": 113,
   "metadata": {},
   "outputs": [],
   "source": [
    "\n",
    "df_final=df_.dropna(axis=0, thresh=2, subset=['year:','make:','model:','trim:'], inplace=False)\n"
   ]
  },
  {
   "cell_type": "code",
   "execution_count": 114,
   "metadata": {},
   "outputs": [
    {
     "name": "stdout",
     "output_type": "stream",
     "text": [
      "<class 'pandas.core.frame.DataFrame'>\n",
      "Index: 960 entries, 0 to 931\n",
      "Data columns (total 15 columns):\n",
      " #   Column         Non-Null Count  Dtype  \n",
      "---  ------         --------------  -----  \n",
      " 0   year:          923 non-null    float64\n",
      " 1   make:          923 non-null    object \n",
      " 2   model:         923 non-null    object \n",
      " 3   trim:          396 non-null    object \n",
      " 4   VIN:           54 non-null     object \n",
      " 5   condition:     680 non-null    object \n",
      " 6   odometer:      960 non-null    int64  \n",
      " 7   cylinders:     650 non-null    object \n",
      " 8   color:         574 non-null    object \n",
      " 9   transmission:  960 non-null    object \n",
      " 10  type:          521 non-null    object \n",
      " 11  status:        960 non-null    object \n",
      " 12  drive:         498 non-null    object \n",
      " 13  fuel:          960 non-null    object \n",
      " 14  price:         958 non-null    float64\n",
      "dtypes: float64(2), int64(1), object(12)\n",
      "memory usage: 160.0+ KB\n"
     ]
    }
   ],
   "source": [
    "df_.info()"
   ]
  },
  {
   "cell_type": "code",
   "execution_count": 115,
   "metadata": {},
   "outputs": [
    {
     "data": {
      "text/html": [
       "<div>\n",
       "<style scoped>\n",
       "    .dataframe tbody tr th:only-of-type {\n",
       "        vertical-align: middle;\n",
       "    }\n",
       "\n",
       "    .dataframe tbody tr th {\n",
       "        vertical-align: top;\n",
       "    }\n",
       "\n",
       "    .dataframe thead th {\n",
       "        text-align: right;\n",
       "    }\n",
       "</style>\n",
       "<table border=\"1\" class=\"dataframe\">\n",
       "  <thead>\n",
       "    <tr style=\"text-align: right;\">\n",
       "      <th></th>\n",
       "      <th>year:</th>\n",
       "      <th>make:</th>\n",
       "      <th>model:</th>\n",
       "      <th>trim:</th>\n",
       "      <th>VIN:</th>\n",
       "      <th>condition:</th>\n",
       "      <th>odometer:</th>\n",
       "      <th>cylinders:</th>\n",
       "      <th>color:</th>\n",
       "      <th>transmission:</th>\n",
       "      <th>type:</th>\n",
       "      <th>status:</th>\n",
       "      <th>drive:</th>\n",
       "      <th>fuel:</th>\n",
       "      <th>price:</th>\n",
       "    </tr>\n",
       "  </thead>\n",
       "  <tbody>\n",
       "    <tr>\n",
       "      <th>0</th>\n",
       "      <td>2012.0</td>\n",
       "      <td>mercedez</td>\n",
       "      <td>benz</td>\n",
       "      <td>c300</td>\n",
       "      <td>NaN</td>\n",
       "      <td>good</td>\n",
       "      <td>72000</td>\n",
       "      <td>6</td>\n",
       "      <td>white</td>\n",
       "      <td>automatic</td>\n",
       "      <td>sedan</td>\n",
       "      <td>clean</td>\n",
       "      <td>4wd</td>\n",
       "      <td>gas</td>\n",
       "      <td>11000.0</td>\n",
       "    </tr>\n",
       "    <tr>\n",
       "      <th>1</th>\n",
       "      <td>2006.0</td>\n",
       "      <td>chevrolet</td>\n",
       "      <td>corvette</td>\n",
       "      <td>v8</td>\n",
       "      <td>NaN</td>\n",
       "      <td>good</td>\n",
       "      <td>118000</td>\n",
       "      <td>8</td>\n",
       "      <td>red</td>\n",
       "      <td>automatic</td>\n",
       "      <td>coupe</td>\n",
       "      <td>clean</td>\n",
       "      <td>rwd</td>\n",
       "      <td>gas</td>\n",
       "      <td>16000.0</td>\n",
       "    </tr>\n",
       "    <tr>\n",
       "      <th>2</th>\n",
       "      <td>1968.0</td>\n",
       "      <td>dodge</td>\n",
       "      <td>charger</td>\n",
       "      <td>NaN</td>\n",
       "      <td>NaN</td>\n",
       "      <td>NaN</td>\n",
       "      <td>1000</td>\n",
       "      <td>NaN</td>\n",
       "      <td>NaN</td>\n",
       "      <td>manual</td>\n",
       "      <td>NaN</td>\n",
       "      <td>clean</td>\n",
       "      <td>NaN</td>\n",
       "      <td>gas</td>\n",
       "      <td>125000.0</td>\n",
       "    </tr>\n",
       "    <tr>\n",
       "      <th>3</th>\n",
       "      <td>2005.0</td>\n",
       "      <td>Subaru</td>\n",
       "      <td>Forester</td>\n",
       "      <td>NaN</td>\n",
       "      <td>NaN</td>\n",
       "      <td>excellent</td>\n",
       "      <td>220000</td>\n",
       "      <td>NaN</td>\n",
       "      <td>NaN</td>\n",
       "      <td>manual</td>\n",
       "      <td>NaN</td>\n",
       "      <td>rebuilt</td>\n",
       "      <td>NaN</td>\n",
       "      <td>gas</td>\n",
       "      <td>9300.0</td>\n",
       "    </tr>\n",
       "    <tr>\n",
       "      <th>4</th>\n",
       "      <td>2003.0</td>\n",
       "      <td>mercedes</td>\n",
       "      <td>benz</td>\n",
       "      <td>g500</td>\n",
       "      <td>NaN</td>\n",
       "      <td>excellent</td>\n",
       "      <td>190212</td>\n",
       "      <td>8</td>\n",
       "      <td>silver</td>\n",
       "      <td>automatic</td>\n",
       "      <td>SUV</td>\n",
       "      <td>clean</td>\n",
       "      <td>4wd</td>\n",
       "      <td>gas</td>\n",
       "      <td>29500.0</td>\n",
       "    </tr>\n",
       "  </tbody>\n",
       "</table>\n",
       "</div>"
      ],
      "text/plain": [
       "    year:      make:    model: trim: VIN: condition:  odometer: cylinders:  \\\n",
       "0  2012.0   mercedez      benz  c300  NaN       good      72000          6   \n",
       "1  2006.0  chevrolet  corvette    v8  NaN       good     118000          8   \n",
       "2  1968.0      dodge   charger   NaN  NaN        NaN       1000        NaN   \n",
       "3  2005.0     Subaru  Forester   NaN  NaN  excellent     220000        NaN   \n",
       "4  2003.0   mercedes      benz  g500  NaN  excellent     190212          8   \n",
       "\n",
       "   color: transmission:  type:  status: drive: fuel:    price:  \n",
       "0   white     automatic  sedan    clean    4wd   gas   11000.0  \n",
       "1     red     automatic  coupe    clean    rwd   gas   16000.0  \n",
       "2     NaN        manual    NaN    clean    NaN   gas  125000.0  \n",
       "3     NaN        manual    NaN  rebuilt    NaN   gas    9300.0  \n",
       "4  silver     automatic    SUV    clean    4wd   gas   29500.0  "
      ]
     },
     "execution_count": 115,
     "metadata": {},
     "output_type": "execute_result"
    }
   ],
   "source": [
    "df_final.head()"
   ]
  },
  {
   "cell_type": "code",
   "execution_count": 116,
   "metadata": {},
   "outputs": [],
   "source": [
    "ct = datetime.datetime.now() \n",
    "name=str(ct)\n",
    "date=name[0:-7].replace(\":\",'_')\n",
    "date.replace(\" \",'_')\n",
    "df_final.to_csv(rf'C:\\Users\\Silmi\\Desktop\\craig_data\\craigslist_{date}.csv')\n"
   ]
  },
  {
   "cell_type": "code",
   "execution_count": null,
   "metadata": {},
   "outputs": [],
   "source": [
    "# Save the data \n",
    "\n",
    "datapath = '../data'\n",
    "save_file(df_final, f'craigslist_{date}.csv', datapath)"
   ]
  },
  {
   "cell_type": "code",
   "execution_count": null,
   "metadata": {},
   "outputs": [],
   "source": []
  },
  {
   "cell_type": "code",
   "execution_count": null,
   "metadata": {},
   "outputs": [],
   "source": []
  },
  {
   "cell_type": "code",
   "execution_count": null,
   "metadata": {},
   "outputs": [],
   "source": []
  }
 ],
 "metadata": {
  "kernelspec": {
   "display_name": "Python 3",
   "language": "python",
   "name": "python3"
  },
  "language_info": {
   "codemirror_mode": {
    "name": "ipython",
    "version": 3
   },
   "file_extension": ".py",
   "mimetype": "text/x-python",
   "name": "python",
   "nbconvert_exporter": "python",
   "pygments_lexer": "ipython3",
   "version": "3.7.0"
  }
 },
 "nbformat": 4,
 "nbformat_minor": 4
}
