{
 "cells": [
  {
   "cell_type": "code",
   "execution_count": 2606,
   "metadata": {},
   "outputs": [],
   "source": [
    "from bs4 import BeautifulSoup\n",
    "from pandas import DataFrame\n",
    "from time import sleep\n",
    "import urllib.request\n",
    "import matplotlib.pyplot as plt\n",
    "import seaborn as sns\n",
    "import pandas as pd\n",
    "import numpy as np\n",
    "import requests\n",
    "import datetime\n",
    "import requests\n",
    "import glob   \n",
    "import os\n",
    "import io\n",
    "import re"
   ]
  },
  {
   "cell_type": "code",
   "execution_count": 2613,
   "metadata": {},
   "outputs": [],
   "source": [
    "import pickle\n",
    "from scipy import stats\n",
    "from sklearn import __version__ as sklearn_version\n",
    "from sklearn.decomposition import PCA\n",
    "from sklearn.preprocessing import scale\n",
    "from sklearn.model_selection import train_test_split, cross_validate, GridSearchCV, learning_curve\n",
    "from sklearn.preprocessing import StandardScaler, MinMaxScaler\n",
    "from sklearn.dummy import DummyRegressor\n",
    "from sklearn.linear_model import LinearRegression\n",
    "from sklearn.ensemble import RandomForestRegressor\n",
    "from sklearn.metrics import r2_score, mean_squared_error, mean_absolute_error\n",
    "from sklearn.pipeline import make_pipeline\n",
    "from sklearn.impute import SimpleImputer\n",
    "from sklearn.feature_selection import SelectKBest, f_regression"
   ]
  },
  {
   "cell_type": "code",
   "execution_count": 2614,
   "metadata": {},
   "outputs": [],
   "source": [
    "#make"
   ]
  },
  {
   "cell_type": "code",
   "execution_count": 2676,
   "metadata": {},
   "outputs": [],
   "source": [
    "li=[]\n",
    "for filename in glob.glob(r\"C:\\Users\\Silmi\\Desktop\\UsedCar-PriceEstimator\\data\\*.csv\"):\n",
    "    collection = pd.read_csv(filename, index_col=None, header=0)\n",
    "    li.append(collection)\n",
    "\n",
    "frame = pd.concat(li, axis=0, ignore_index=True)"
   ]
  },
  {
   "cell_type": "code",
   "execution_count": 2677,
   "metadata": {},
   "outputs": [
    {
     "data": {
      "text/plain": [
       "(35695, 16)"
      ]
     },
     "execution_count": 2677,
     "metadata": {},
     "output_type": "execute_result"
    }
   ],
   "source": [
    "frame.shape"
   ]
  },
  {
   "cell_type": "code",
   "execution_count": 2678,
   "metadata": {},
   "outputs": [
    {
     "name": "stderr",
     "output_type": "stream",
     "text": [
      "c:\\users\\silmi\\appdata\\local\\programs\\python\\python37\\lib\\site-packages\\pandas\\core\\generic.py:6746: SettingWithCopyWarning: \n",
      "A value is trying to be set on a copy of a slice from a DataFrame\n",
      "\n",
      "See the caveats in the documentation: https://pandas.pydata.org/pandas-docs/stable/user_guide/indexing.html#returning-a-view-versus-a-copy\n",
      "  self._update_inplace(new_data)\n",
      "c:\\users\\silmi\\appdata\\local\\programs\\python\\python37\\lib\\site-packages\\ipykernel_launcher.py:46: SettingWithCopyWarning: \n",
      "A value is trying to be set on a copy of a slice from a DataFrame.\n",
      "Try using .loc[row_indexer,col_indexer] = value instead\n",
      "\n",
      "See the caveats in the documentation: https://pandas.pydata.org/pandas-docs/stable/user_guide/indexing.html#returning-a-view-versus-a-copy\n"
     ]
    },
    {
     "data": {
      "text/plain": [
       "(483, 9)"
      ]
     },
     "execution_count": 2678,
     "metadata": {},
     "output_type": "execute_result"
    }
   ],
   "source": [
    "#Process(bigframe dataframe,makmod str)\n",
    "_df=Process(frame,'toyota camry')\n",
    "_df.shape"
   ]
  },
  {
   "cell_type": "code",
   "execution_count": null,
   "metadata": {},
   "outputs": [],
   "source": []
  },
  {
   "cell_type": "code",
   "execution_count": 2680,
   "metadata": {},
   "outputs": [],
   "source": [
    "X=_df.drop(columns='price:')\n",
    "y=_df['price:']"
   ]
  },
  {
   "cell_type": "code",
   "execution_count": 2681,
   "metadata": {},
   "outputs": [],
   "source": [
    "X_train, X_test, y_train, y_test = train_test_split(X,y, test_size=0.1, random_state=47)"
   ]
  },
  {
   "cell_type": "code",
   "execution_count": 2682,
   "metadata": {},
   "outputs": [],
   "source": [
    "scaler = StandardScaler()\n",
    "scaler.fit(X_train)\n",
    "X_tr_scaled = scaler.transform(X_train)\n",
    "X_te_scaled = scaler.transform(X_test)"
   ]
  },
  {
   "cell_type": "code",
   "execution_count": 2683,
   "metadata": {},
   "outputs": [],
   "source": [
    "Rm = RandomForestRegressor().fit(X_tr_scaled, y_train)"
   ]
  },
  {
   "cell_type": "code",
   "execution_count": 2684,
   "metadata": {},
   "outputs": [],
   "source": [
    "y_tr_pred = lm.predict(X_tr_scaled)\n",
    "y_te_pred = lm.predict(X_te_scaled)"
   ]
  },
  {
   "cell_type": "code",
   "execution_count": 2685,
   "metadata": {},
   "outputs": [],
   "source": [
    "median_r2 = r2_score(y_train, y_tr_pred)"
   ]
  },
  {
   "cell_type": "code",
   "execution_count": 2686,
   "metadata": {},
   "outputs": [
    {
     "data": {
      "text/plain": [
       "-0.777837727320879"
      ]
     },
     "execution_count": 2686,
     "metadata": {},
     "output_type": "execute_result"
    }
   ],
   "source": [
    "median_r2"
   ]
  },
  {
   "cell_type": "code",
   "execution_count": null,
   "metadata": {},
   "outputs": [],
   "source": []
  },
  {
   "cell_type": "code",
   "execution_count": 2687,
   "metadata": {},
   "outputs": [],
   "source": [
    "final_lin=['https://sfbay.craigslist.org/eby/cto/d/newark-toyota-camry-2009/7262622113.html']\n",
    "test=Scrape(final_lin)"
   ]
  },
  {
   "cell_type": "code",
   "execution_count": 2688,
   "metadata": {},
   "outputs": [
    {
     "name": "stderr",
     "output_type": "stream",
     "text": [
      "c:\\users\\silmi\\appdata\\local\\programs\\python\\python37\\lib\\site-packages\\ipykernel_launcher.py:63: SettingWithCopyWarning: \n",
      "A value is trying to be set on a copy of a slice from a DataFrame.\n",
      "Try using .loc[row_indexer,col_indexer] = value instead\n",
      "\n",
      "See the caveats in the documentation: https://pandas.pydata.org/pandas-docs/stable/user_guide/indexing.html#returning-a-view-versus-a-copy\n",
      "c:\\users\\silmi\\appdata\\local\\programs\\python\\python37\\lib\\site-packages\\ipykernel_launcher.py:64: SettingWithCopyWarning: \n",
      "A value is trying to be set on a copy of a slice from a DataFrame.\n",
      "Try using .loc[row_indexer,col_indexer] = value instead\n",
      "\n",
      "See the caveats in the documentation: https://pandas.pydata.org/pandas-docs/stable/user_guide/indexing.html#returning-a-view-versus-a-copy\n",
      "c:\\users\\silmi\\appdata\\local\\programs\\python\\python37\\lib\\site-packages\\ipykernel_launcher.py:65: SettingWithCopyWarning: \n",
      "A value is trying to be set on a copy of a slice from a DataFrame.\n",
      "Try using .loc[row_indexer,col_indexer] = value instead\n",
      "\n",
      "See the caveats in the documentation: https://pandas.pydata.org/pandas-docs/stable/user_guide/indexing.html#returning-a-view-versus-a-copy\n"
     ]
    }
   ],
   "source": [
    "\n",
    "feed=Process(test)\n",
    "feed=feed.drop(columns='price:')"
   ]
  },
  {
   "cell_type": "code",
   "execution_count": 2689,
   "metadata": {},
   "outputs": [],
   "source": [
    "test = scaler.transform(feed)"
   ]
  },
  {
   "cell_type": "code",
   "execution_count": 2690,
   "metadata": {},
   "outputs": [],
   "source": [
    "test1 = lm.predict(test)"
   ]
  },
  {
   "cell_type": "code",
   "execution_count": 2691,
   "metadata": {},
   "outputs": [
    {
     "data": {
      "text/plain": [
       "7023.4468740731545"
      ]
     },
     "execution_count": 2691,
     "metadata": {},
     "output_type": "execute_result"
    }
   ],
   "source": [
    "test1[0]"
   ]
  },
  {
   "cell_type": "code",
   "execution_count": 2675,
   "metadata": {},
   "outputs": [],
   "source": [
    "def Process(df_,makmod=1):\n",
    "    df_= df_[df_['price:'].notna()]\n",
    "    df_['make:'].replace(['mazda','MAZDA'],'mazda',inplace=True)\n",
    "    df_['make:'].replace(['MITSUBISHI'],'mitsubishi',inplace=True)\n",
    "    df_['make:'].replace(['mercedes','Mercedes-benz','Mercedez','Mersedes','mbz','Mbz',\n",
    "                          'mercedez','mercedes-benz','Mercedes',\n",
    "                          'Benz','MERCEDES','Merceds','MERCEDES-BENZ',\n",
    "                          'Mercedes-Benz','mersedes'],'mercedes-benz',inplace=True)\n",
    "    df_['make:'].replace([ 'Cevrolet','Chaey','Chebrolet','Chevelle','Chevorlet','Chevroler',\n",
    "                          'Chevrolet','Chevrolete','Chevy.','chevrolet','Chverolet','Shevrolet',\n",
    "                          'chevrolet','Chevi','CHEVY','Chevrolet',\n",
    "                          'chevorlet','chevy','CHEVRLET','Cheverolet','Chevy','Chev',\n",
    "                          'CHEVROLET','chev'],'chevrolet',inplace=True)\n",
    "    df_['make:'].replace(['volkseagen','volkswagon','volkwagen', 'Volkswagon',\n",
    "                          'Volkswangen','Volkwagen','volkswagen',\n",
    "                          'Vw','VW','vw','VOLKSWAGEN','V.W'],'volkswagen',inplace=True)\n",
    "    df_['make:'].replace(['TOYOYA','toyta','Toyot','Toyoda','TOYOTA',\n",
    "                          'toyota'],'toyota',inplace=True)\n",
    "    df_['make:'].replace(['Mini','MINI'],'mini',inplace=True)\n",
    "    df_['make:'].replace(['Isuzu','Izusu','Izuzu','izuzu','isuzu'],'isuzu',inplace=True)\n",
    "    df_['make:'].replace(['hyndai','hynduia','Hyuandi','Hunday','hundai','hyundia',\n",
    "                          'HYUNDAI'],'hyundai',inplace=True)\n",
    "    df_['make:'].replace(['Bmw','bimmer','Bmw'],'bmw',inplace=True)\n",
    "    df_['make:'].replace(['Audi','AUDI'],'audi',inplace=True)\n",
    "    df_['make:'].replace(['LEXUS','Lexus'],'lexus',inplace=True)\n",
    "    df_['make:'].replace(['KIA','Kia'],'kia',inplace=True)\n",
    "    df_['make:'].replace(['Ford','FORD','for'],'ford',inplace=True)\n",
    "    df_['make:'].replace(['HUMMER','Hummer','hummer','Gmc','GMC','Gmc'],'gmc',inplace=True)\n",
    "    df_['make:'].replace(['HONDA','Houda','honda'],'Honda',inplace=True)\n",
    "    df_['make:'].replace(['jeep','Jeeb','JEEP'],'Jeep',inplace=True)\n",
    "    df_['make:'].replace(['audi','AUDI'],'Audi',inplace=True)\n",
    "    df_['make:'].replace(['VOLVO', 'volvo'],'Volvo',inplace=True)\n",
    "    df_['make:'].replace(['Infinti','infinti','INFINITI','infiniti',\n",
    "                          'infinity'],'Infinity',inplace=True)\n",
    "    df_['make:'].replace(['FIAT', 'fiat'],'Fiat',inplace=True)\n",
    "    df_['make:'].replace(['Nissin','NISSAN','Nissan'],'nissan',inplace=True)\n",
    "    df_['make:'].replace(['PORSCHE','porsche'],'Porsche',inplace=True)\n",
    "    df_['make:'].replace(['model','Model','TESLA','TELSA','Tesla'],'tesla',inplace=True)\n",
    "    df_['make:'].replace(['alfa Romeo','Alfa','alfa'],'Alfa Romeo',inplace=True)\n",
    "    df_['make:'].replace(['land-rover','LANDROVER','Rover','rover','land','Land rover',\n",
    "                          'land rover'],'land rover',inplace=True)\n",
    "    df_['make:'].replace([ 'chryler','chrystler','chyrsler','chysler',\n",
    "                          'chrysler','CRYSLER','Cheysler'],'chrysler',inplace=True)\n",
    "    df_['make:'].replace(['pontaic','pontiac'],'pontiac',inplace=True)\n",
    "\n",
    "    df_['make:']=df_['make:'].apply(lambda x: x.lower())\n",
    "    df_=df_[df_['make:'].isin(make)]\n",
    "    df_['model:']=df_['model:'].apply(lambda x: x.lower())\n",
    "    df_['trim:'].fillna('', inplace=True)\n",
    "    df_['trim:']=df_['trim:'].apply(lambda x: x.lower())\n",
    "    df_['model:']=df_['model:'].apply(lambda x: x.replace('-',\"\"))\n",
    "    df_['model:']=df_['model:'].apply(lambda x: x.replace(',',\"\"))\n",
    "    df_['model:']=df_['model:'].apply(lambda x: x.replace('.',\"\"))\n",
    "    #replace benz in model with values in trim before dropping trim\n",
    "    #can do some model replacement of miss spelled values here before concatinating\n",
    "    df_['Make&Model'] = df_[['make:', 'model:']].apply(lambda x: ' '.join(x), axis=1)\n",
    "    df=df_[['year:','Make&Model','trim:','condition:','odometer:',\n",
    "                              'cylinders:','color:','transmission:',\n",
    "                              'type:','status:','drive:','fuel:','price:']]\n",
    "    if(makmod!=1):\n",
    "        df=df[df_['Make&Model']==makmod]\n",
    "    col_drop=['Make&Model','trim:','color:','type:']\n",
    "    df['year:']=df['year:'].astype(int)\n",
    "    df['year:']=df['year:'].apply(lambda x:(2020-x))\n",
    "    df['price:']=df['price:'].astype(int)\n",
    "    if(len(df)>12):\n",
    "        df=df[(np.abs(stats.zscore(df['price:'])) < 3)]\n",
    "    df=df[df['price:']>1000]\n",
    "    df=df.drop_duplicates()\n",
    "    df.drop(columns=col_drop, inplace=True)\n",
    "    df=df.reset_index(drop=True)\n",
    "    df['condition:']=df['condition:'].fillna(\"good\")\n",
    "    df['drive:']=df['drive:'].fillna(\"fwd\")\n",
    "    df['cylinders:']=df['cylinders:'].fillna(\"4\")\n",
    "    df['cylinders:']=df['cylinders:'].replace('other','4')\n",
    "    df['cylinders:']=df['cylinders:'].apply(lambda x: int(x))\n",
    "    cleanup_nums = {\"condition:\": {\"new\":6,\"good\": 3, \"excellent\": 5,\"like\": 4,\"fair\": 2,\"salvage\": 1},\n",
    "                    \"transmission:\": {\"automatic\": 1, \"manual\": 2, \"other\":3 },\n",
    "                   \"status:\":{\"clean\": 4, \"salvage\": 3, \"missing\":2,\"lien\":2,\"parts\":1,\"rebuilt\":3},\n",
    "                   \"drive:\":{\"4wd\": 3, \"rwd\": 2, \"fwd\":1},\n",
    "                   \"fuel:\":{'electric':5,\"gas\": 4, \"diesel\": 3, \"hybrid\":2,\"other\":1}}\n",
    "    df= df.replace(cleanup_nums)\n",
    "    return df"
   ]
  },
  {
   "cell_type": "code",
   "execution_count": 2657,
   "metadata": {},
   "outputs": [],
   "source": [
    "def Scrape(final_links):\n",
    "    \n",
    "    spec_list=[]\n",
    "    title_list=[]\n",
    "    price_list=[]\n",
    "\n",
    "    for lin in final_links:\n",
    "        try:\n",
    "            page = requests.get(lin)\n",
    "            soup = BeautifulSoup(page.text, \"html.parser\")\n",
    "            spec_list.append(soup.find_all(\"p\", {\"class\": \"attrgroup\"})[1].text.strip('\\n').replace(\"\\n\",\" \").split(\" \"))\n",
    "            title_list.append(soup.find_all(\"p\", {\"class\": \"attrgroup\"})[0].text.strip('\\n'))\n",
    "            price_list.append(str(soup.find(\"span\", {\"class\": \"price\"})).strip('$').replace(',',\"\"))\n",
    "        except:\n",
    "            continue\n",
    "    df_=pd.DataFrame(columns=['year:','make:','model:','trim:','VIN:','condition:','odometer:',\n",
    "                              'cylinders:','color:','transmission:',\n",
    "                              'type:','status:','drive:','fuel:','price:'])\n",
    "    for i,title in enumerate(title_list):\n",
    "        if(len(title.split())>=4 and not(title.split()[1].isnumeric())):\n",
    "                df_.loc[f'{i}','year:']=title.split()[0]\n",
    "                df_.loc[f'{i}','make:']=title.split()[1]\n",
    "                df_.loc[f'{i}','model:']=title.split()[2]\n",
    "                df_.loc[f'{i}','trim:']=title.split()[3]\n",
    "        if(len(title.split())==3 and not(title.split()[1].isnumeric())):\n",
    "                df_.loc[f'{i}','year:']=title.split()[0]\n",
    "                df_.loc[f'{i}','make:']=title.split()[1]\n",
    "                df_.loc[f'{i}','model:']=title.split()[2]\n",
    "                df_.loc[f'{i}','trim:']= np.nan\n",
    "        if(len(title.split())==4 and title.split()[1].isnumeric()):\n",
    "                df_.loc[f'{i}','year:']=title.split()[0]\n",
    "                df_.loc[f'{i}','make:']=title.split()[2]\n",
    "                df_.loc[f'{i}','model:']=title.split()[3]\n",
    "                df_.loc[f'{i}','trim:']= np.nan\n",
    "        if(len(title.split())>=5 and title.split()[1].isnumeric()):\n",
    "                df_.loc[f'{i}','year:']=title.split()[0]\n",
    "                df_.loc[f'{i}','make:']=title.split()[2]\n",
    "                df_.loc[f'{i}','model:']=title.split()[3]\n",
    "                df_.loc[f'{i}','trim:']= title.split()[4]\n",
    "\n",
    "    for i,temp in enumerate(spec_list):\n",
    "        for word in temp:\n",
    "            if(word=='VIN:'):\n",
    "                df_.loc[f'{i}','VIN:']=temp[temp.index(word)+1]    \n",
    "            if(word=='condition:'):\n",
    "                 df_.loc[f'{i}','condition:']=temp[temp.index(word)+1] \n",
    "            if(word=='odometer:'):\n",
    "                df_.loc[f'{i}','odometer:']=temp[temp.index(word)+1]\n",
    "            if(word=='cylinders:'):\n",
    "                 df_.loc[f'{i}','cylinders:']=temp[temp.index(word)+1]\n",
    "            if(word=='color:'):\n",
    "                 df_.loc[f'{i}','color:']=temp[temp.index(word)+1]\n",
    "            if(word=='transmission:'):\n",
    "                 df_.loc[f'{i}','transmission:']=temp[temp.index(word)+1]\n",
    "            if(word=='type:'):\n",
    "                 df_.loc[f'{i}','type:']=temp[temp.index(word)+1]\n",
    "            if(word=='status:'):\n",
    "                 df_.loc[f'{i}','status:']=temp[temp.index(word)+1]\n",
    "            if(word=='drive:'):\n",
    "                 df_.loc[f'{i}','drive:']=temp[temp.index(word)+1] \n",
    "            if(word=='fuel:'):\n",
    "                 df_.loc[f'{i}','fuel:']=temp[temp.index(word)+1]\n",
    "    for i,p in enumerate(price_list):\n",
    "        df_.loc[f'{i}','price:']=p\n",
    "        \n",
    "    df_['price:']=df_['price:'].apply(lambda x: x[21:-7])\n",
    "    df_['price:'] = pd.to_numeric(df_['price:'])\n",
    "    df_['year:'] = pd.to_numeric(df_['year:'])\n",
    "    df_['odometer:'] = pd.to_numeric(df_['odometer:'])\n",
    "\n",
    "    return df_"
   ]
  },
  {
   "cell_type": "code",
   "execution_count": null,
   "metadata": {},
   "outputs": [],
   "source": []
  }
 ],
 "metadata": {
  "kernelspec": {
   "display_name": "Python 3",
   "language": "python",
   "name": "python3"
  },
  "language_info": {
   "codemirror_mode": {
    "name": "ipython",
    "version": 3
   },
   "file_extension": ".py",
   "mimetype": "text/x-python",
   "name": "python",
   "nbconvert_exporter": "python",
   "pygments_lexer": "ipython3",
   "version": "3.7.0"
  }
 },
 "nbformat": 4,
 "nbformat_minor": 4
}
