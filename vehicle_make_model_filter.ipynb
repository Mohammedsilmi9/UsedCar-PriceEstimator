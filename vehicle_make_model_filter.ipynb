{
 "cells": [
  {
   "cell_type": "code",
   "execution_count": 3,
   "metadata": {},
   "outputs": [],
   "source": [
    "from dataWrangler import *\n",
    "from scrape_craigslist import Scrape\n",
    "from predictions import *\n",
    "import urllib.request\n",
    "import pandas as pd\n",
    "import numpy as np\n",
    "import warnings\n",
    "warnings.filterwarnings('ignore')\n",
    "import requests\n",
    "import datetime\n",
    "import math\n",
    "import glob   \n",
    "import os\n",
    "import io\n",
    "import re"
   ]
  },
  {
   "cell_type": "code",
   "execution_count": 4,
   "metadata": {},
   "outputs": [],
   "source": [
    "li=[]\n",
    "for filename in glob.glob(r\"..\\UsedCar-PriceEstimator\\data\\*.csv\"):\n",
    "    collection = pd.read_csv(filename, index_col=None, header=0)\n",
    "    li.append(collection)\n",
    "frame = pd.concat(li, axis=0, ignore_index=True)\n"
   ]
  },
  {
   "cell_type": "code",
   "execution_count": 9,
   "metadata": {},
   "outputs": [],
   "source": [
    "Link='https://sfbay.craigslist.org/sby/cto/d/cupertino-2017-cadillac-escalade-2wd/7339467952.html'"
   ]
  },
  {
   "cell_type": "code",
   "execution_count": 10,
   "metadata": {},
   "outputs": [
    {
     "name": "stdout",
     "output_type": "stream",
     "text": [
      "cadillac escalade Accuracy: 96.07 %.\n",
      "cadillac escalade Accuracy: 98.31 %.\n",
      "cadillac escalade Accuracy: 97.64 %.\n",
      "cadillac escalade Accuracy: 98.52 %.\n",
      "-----------------------------------------------\n",
      " Recommended: 40800 \n",
      " Actual: 38850 \n",
      " Low: 38102 - High: 43252\n"
     ]
    }
   ],
   "source": [
    "lis=[]\n",
    "for x in range(3,23,5):\n",
    "    lis.append(singlePredict(Link,frame,x))\n",
    "\n",
    "x=0\n",
    "for l in lis:\n",
    "    x+=(l[1])\n",
    "res=int(x/len(lis))\n",
    "result=((math.floor(res / 100.0)) * 100)    \n",
    "    \n",
    "print(\"-----------------------------------------------\")\n",
    "print(' Recommended:',result,\"\\n\",\"Actual:\",lis[1][-1],\"\\n\",'Low:',min(lis)[1],'-','High:',max(lis)[1])"
   ]
  },
  {
   "cell_type": "code",
   "execution_count": null,
   "metadata": {},
   "outputs": [],
   "source": []
  },
  {
   "cell_type": "code",
   "execution_count": null,
   "metadata": {},
   "outputs": [],
   "source": []
  },
  {
   "cell_type": "code",
   "execution_count": null,
   "metadata": {},
   "outputs": [],
   "source": []
  },
  {
   "cell_type": "code",
   "execution_count": null,
   "metadata": {},
   "outputs": [],
   "source": []
  }
 ],
 "metadata": {
  "kernelspec": {
   "display_name": "Python 3",
   "language": "python",
   "name": "python3"
  },
  "language_info": {
   "codemirror_mode": {
    "name": "ipython",
    "version": 3
   },
   "file_extension": ".py",
   "mimetype": "text/x-python",
   "name": "python",
   "nbconvert_exporter": "python",
   "pygments_lexer": "ipython3",
   "version": "3.7.0"
  }
 },
 "nbformat": 4,
 "nbformat_minor": 4
}
