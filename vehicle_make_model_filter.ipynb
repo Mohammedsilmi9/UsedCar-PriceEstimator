{
 "cells": [
  {
   "cell_type": "code",
   "execution_count": 983,
   "metadata": {},
   "outputs": [],
   "source": [
    "from bs4 import BeautifulSoup\n",
    "from pandas import DataFrame\n",
    "from time import sleep\n",
    "import urllib.request\n",
    "import matplotlib.pyplot as plt\n",
    "import seaborn as sns\n",
    "import pandas as pd\n",
    "import numpy as np\n",
    "import requests\n",
    "import datetime\n",
    "import requests\n",
    "import glob   \n",
    "import os\n",
    "import io\n",
    "import re"
   ]
  },
  {
   "cell_type": "code",
   "execution_count": 1331,
   "metadata": {},
   "outputs": [],
   "source": [
    "\n",
    "import pickle\n",
    "import matplotlib.pyplot as plt\n",
    "import seaborn as sns\n",
    "from sklearn import __version__ as sklearn_version\n",
    "from sklearn.decomposition import PCA\n",
    "from sklearn.preprocessing import scale\n",
    "from sklearn.model_selection import train_test_split, cross_validate, GridSearchCV, learning_curve\n",
    "from sklearn.preprocessing import StandardScaler, MinMaxScaler\n",
    "from sklearn.dummy import DummyRegressor\n",
    "from sklearn.linear_model import LinearRegression\n",
    "from sklearn.ensemble import RandomForestRegressor\n",
    "from sklearn.metrics import r2_score, mean_squared_error, mean_absolute_error\n",
    "from sklearn.pipeline import make_pipeline\n",
    "from sklearn.impute import SimpleImputer\n",
    "from sklearn.feature_selection import SelectKBest, f_regression"
   ]
  },
  {
   "cell_type": "code",
   "execution_count": 984,
   "metadata": {},
   "outputs": [],
   "source": [
    "make_model_keys=pd.read_html('https://www.kbb.com/car-make-model-list/new/view-all/')"
   ]
  },
  {
   "cell_type": "code",
   "execution_count": 985,
   "metadata": {},
   "outputs": [],
   "source": [
    "df_make_model=pd.DataFrame(make_model_keys[0])"
   ]
  },
  {
   "cell_type": "code",
   "execution_count": 986,
   "metadata": {},
   "outputs": [],
   "source": [
    "df_make_model=df_make_model[['Make','Model']]"
   ]
  },
  {
   "cell_type": "code",
   "execution_count": 987,
   "metadata": {},
   "outputs": [],
   "source": [
    "df_make_model['Model']=df_make_model['Model'].apply(lambda x: x.lower())\n",
    "\n",
    "df_make_model['Make']=df_make_model['Make'].apply(lambda x: x.lower())"
   ]
  },
  {
   "cell_type": "code",
   "execution_count": 988,
   "metadata": {},
   "outputs": [],
   "source": [
    "make=result"
   ]
  },
  {
   "cell_type": "code",
   "execution_count": 989,
   "metadata": {},
   "outputs": [
    {
     "data": {
      "text/plain": [
       "45"
      ]
     },
     "execution_count": 989,
     "metadata": {},
     "output_type": "execute_result"
    }
   ],
   "source": [
    "len(make)"
   ]
  },
  {
   "cell_type": "code",
   "execution_count": 990,
   "metadata": {},
   "outputs": [],
   "source": [
    "df_model=df_make_model['Model'][df_make_model['Make'].isin(make)]"
   ]
  },
  {
   "cell_type": "code",
   "execution_count": 991,
   "metadata": {},
   "outputs": [],
   "source": [
    "model=df_model.tolist()"
   ]
  },
  {
   "cell_type": "code",
   "execution_count": null,
   "metadata": {},
   "outputs": [],
   "source": []
  },
  {
   "cell_type": "code",
   "execution_count": 1000,
   "metadata": {},
   "outputs": [],
   "source": [
    "collection_df = pd.DataFrame()\n",
    "for f in glob.glob(r\"C:\\Users\\Silmi\\Desktop\\UsedCar-PriceEstimator\\data\\*.csv\"):\n",
    "    appenddata = pd.read_csv(f)\n",
    "    collection_df = collection_df.append(appenddata)"
   ]
  },
  {
   "cell_type": "code",
   "execution_count": null,
   "metadata": {},
   "outputs": [],
   "source": []
  },
  {
   "cell_type": "code",
   "execution_count": 1002,
   "metadata": {},
   "outputs": [
    {
     "data": {
      "text/plain": [
       "(27311, 16)"
      ]
     },
     "execution_count": 1002,
     "metadata": {},
     "output_type": "execute_result"
    }
   ],
   "source": [
    "collection_df.drop_duplicates(inplace=True)\n",
    "\n",
    "collection_df.shape"
   ]
  },
  {
   "cell_type": "code",
   "execution_count": 1003,
   "metadata": {},
   "outputs": [],
   "source": [
    "df_=collection_df.copy()"
   ]
  },
  {
   "cell_type": "code",
   "execution_count": 1004,
   "metadata": {},
   "outputs": [
    {
     "data": {
      "text/plain": [
       "(27311, 16)"
      ]
     },
     "execution_count": 1004,
     "metadata": {},
     "output_type": "execute_result"
    }
   ],
   "source": [
    "df_.shape"
   ]
  },
  {
   "cell_type": "code",
   "execution_count": 1005,
   "metadata": {},
   "outputs": [
    {
     "data": {
      "text/plain": [
       "471"
      ]
     },
     "execution_count": 1005,
     "metadata": {},
     "output_type": "execute_result"
    }
   ],
   "source": [
    "df_['make:'].nunique()"
   ]
  },
  {
   "cell_type": "code",
   "execution_count": 1006,
   "metadata": {},
   "outputs": [],
   "source": [
    "df_['make:'].replace(['mazda','MAZDA'],'mazda',inplace=True)\n",
    "df_['make:'].replace(['MITSUBISHI'],'mitsubishi',inplace=True)\n",
    "df_['make:'].replace(['mercedes','Mercedes-benz','Mercedez','Mersedes','mbz','Mbz',\n",
    "                      'mercedez','mercedes-benz','Mercedes',\n",
    "                      'Benz','MERCEDES','Merceds','MERCEDES-BENZ',\n",
    "                      'Mercedes-Benz','mersedes'],'mercedes-benz',inplace=True)\n",
    "df_['make:'].replace([ 'Cevrolet','Chaey','Chebrolet','Chevelle','Chevorlet','Chevroler',\n",
    "                      'Chevrolet','Chevrolete','Chevy.','chevrolet','Chverolet','Shevrolet',\n",
    "                      'chevrolet','Chevi','CHEVY','Chevrolet',\n",
    "                      'chevorlet','chevy','CHEVRLET','Cheverolet','Chevy','Chev',\n",
    "                      'CHEVROLET','chev'],'chevrolet',inplace=True)\n",
    "df_['make:'].replace(['volkseagen','volkswagon','volkwagen', 'Volkswagon',\n",
    "                      'Volkswangen','Volkwagen','volkswagen',\n",
    "                      'Vw','VW','vw','VOLKSWAGEN','V.W'],'volkswagen',inplace=True)\n",
    "df_['make:'].replace(['TOYOYA','toyta','Toyot','Toyoda','TOYOTA',\n",
    "                      'toyota'],'toyota',inplace=True)\n",
    "df_['make:'].replace(['Mini','MINI'],'mini',inplace=True)\n",
    "df_['make:'].replace(['Isuzu','Izusu','Izuzu','izuzu','isuzu'],'isuzu',inplace=True)\n",
    "df_['make:'].replace(['hyndai','hynduia','Hyuandi','Hunday','hundai','hyundia',\n",
    "                      'HYUNDAI'],'hyundai',inplace=True)\n",
    "df_['make:'].replace(['Bmw','bimmer','Bmw'],'bmw',inplace=True)\n",
    "df_['make:'].replace(['Audi','AUDI'],'audi',inplace=True)\n",
    "df_['make:'].replace(['LEXUS','Lexus'],'lexus',inplace=True)\n",
    "df_['make:'].replace(['KIA','Kia'],'kia',inplace=True)\n",
    "df_['make:'].replace(['Ford','FORD','for'],'ford',inplace=True)\n",
    "df_['make:'].replace(['HUMMER','Hummer','hummer','Gmc','GMC','Gmc'],'gmc',inplace=True)\n",
    "df_['make:'].replace(['HONDA','Houda','honda'],'Honda',inplace=True)\n",
    "df_['make:'].replace(['jeep','Jeeb','JEEP'],'Jeep',inplace=True)\n",
    "df_['make:'].replace(['audi','AUDI'],'Audi',inplace=True)\n",
    "df_['make:'].replace(['VOLVO', 'volvo'],'Volvo',inplace=True)\n",
    "df_['make:'].replace(['Infinti','infinti','INFINITI','infiniti',\n",
    "                      'infinity'],'Infinity',inplace=True)\n",
    "df_['make:'].replace(['FIAT', 'fiat'],'Fiat',inplace=True)\n",
    "df_['make:'].replace(['Nissin','NISSAN','Nissan'],'nissan',inplace=True)\n",
    "df_['make:'].replace(['PORSCHE','porsche'],'Porsche',inplace=True)\n",
    "df_['make:'].replace(['model','Model','TESLA','TELSA','Tesla'],'tesla',inplace=True)\n",
    "df_['make:'].replace(['alfa Romeo','Alfa','alfa'],'Alfa Romeo',inplace=True)\n",
    "df_['make:'].replace(['land-rover','LANDROVER','Rover','rover','land','Land rover',\n",
    "                      'land rover'],'land rover',inplace=True)\n",
    "df_['make:'].replace([ 'chryler','chrystler','chyrsler','chysler',\n",
    "                      'chrysler','CRYSLER','Cheysler'],'chrysler',inplace=True)\n",
    "df_['make:'].replace(['pontaic','pontiac'],'pontiac',inplace=True)\n",
    "\n"
   ]
  },
  {
   "cell_type": "code",
   "execution_count": 1007,
   "metadata": {},
   "outputs": [
    {
     "data": {
      "text/plain": [
       "363"
      ]
     },
     "execution_count": 1007,
     "metadata": {},
     "output_type": "execute_result"
    }
   ],
   "source": [
    "df_['make:'].nunique()"
   ]
  },
  {
   "cell_type": "code",
   "execution_count": 1008,
   "metadata": {},
   "outputs": [
    {
     "data": {
      "text/plain": [
       "(27311, 16)"
      ]
     },
     "execution_count": 1008,
     "metadata": {},
     "output_type": "execute_result"
    }
   ],
   "source": [
    "df_.shape"
   ]
  },
  {
   "cell_type": "code",
   "execution_count": 1009,
   "metadata": {},
   "outputs": [],
   "source": [
    "df_['make:']=df_['make:'].apply(lambda x: x.lower())"
   ]
  },
  {
   "cell_type": "code",
   "execution_count": 1010,
   "metadata": {},
   "outputs": [],
   "source": [
    "df_=df_[df_['make:'].isin(make)]"
   ]
  },
  {
   "cell_type": "code",
   "execution_count": 1011,
   "metadata": {},
   "outputs": [
    {
     "data": {
      "text/plain": [
       "(25970, 16)"
      ]
     },
     "execution_count": 1011,
     "metadata": {},
     "output_type": "execute_result"
    }
   ],
   "source": [
    "df_.shape"
   ]
  },
  {
   "cell_type": "code",
   "execution_count": 1012,
   "metadata": {},
   "outputs": [],
   "source": [
    "df_['model:']=df_['model:'].apply(lambda x: x.lower())\n",
    "df_['trim:'].fillna('', inplace=True)\n",
    "df_['trim:']=df_['trim:'].apply(lambda x: x.lower())"
   ]
  },
  {
   "cell_type": "code",
   "execution_count": 1013,
   "metadata": {},
   "outputs": [],
   "source": [
    "# get rid of benz in model"
   ]
  },
  {
   "cell_type": "code",
   "execution_count": 1014,
   "metadata": {},
   "outputs": [],
   "source": [
    "df_['model:']=df_['model:'].apply(lambda x: x.replace('-',\"\"))\n",
    "df_['model:']=df_['model:'].apply(lambda x: x.replace(',',\"\"))\n",
    "df_['model:']=df_['model:'].apply(lambda x: x.replace('.',\"\"))"
   ]
  },
  {
   "cell_type": "code",
   "execution_count": 1015,
   "metadata": {},
   "outputs": [],
   "source": [
    "#df_.groupby(by=\"model:\",axis=0)[\"price:\"].median()[145:175]\n",
    "#df_[df_['trim:']=='c320']\n",
    "#len(df_['model:'])/df_['model:'].nunique()\n",
    "#df_['model:'].value_counts()[500:550]"
   ]
  },
  {
   "cell_type": "code",
   "execution_count": 1016,
   "metadata": {},
   "outputs": [],
   "source": [
    "\n",
    "df_['Make&Model'] = df_[['make:', 'model:']].apply(lambda x: ' '.join(x), axis=1)"
   ]
  },
  {
   "cell_type": "code",
   "execution_count": 1017,
   "metadata": {},
   "outputs": [],
   "source": [
    "df=df_[['year:','Make&Model','trim:','condition:','odometer:',\n",
    "                          'cylinders:','color:','transmission:',\n",
    "                          'type:','status:','drive:','fuel:','price:']]"
   ]
  },
  {
   "cell_type": "code",
   "execution_count": null,
   "metadata": {},
   "outputs": [],
   "source": []
  },
  {
   "cell_type": "code",
   "execution_count": 2027,
   "metadata": {},
   "outputs": [
    {
     "data": {
      "text/plain": [
       "mini cooper          140\n",
       "ford focus           136\n",
       "toyota tundra        122\n",
       "gmc sierra           119\n",
       "ford f350            115\n",
       "ford fusion          114\n",
       "ford ranger          112\n",
       "ford explorer        112\n",
       "nissan sentra        108\n",
       "hyundai sonata       108\n",
       "hyundai elantra      103\n",
       "audi a4               99\n",
       "nissan versa          99\n",
       "bmw x5                97\n",
       "toyota highlander     96\n",
       "chevrolet tahoe       95\n",
       "lexus es              94\n",
       "ford escape           94\n",
       "honda pilot           90\n",
       "lexus rx              89\n",
       "jeep grand            88\n",
       "toyota rav4           86\n",
       "chevrolet camaro      86\n",
       "subaru forester       85\n",
       "subaru impreza        84\n",
       "Name: Make&Model, dtype: int64"
      ]
     },
     "execution_count": 2027,
     "metadata": {},
     "output_type": "execute_result"
    }
   ],
   "source": [
    "df['Make&Model'].value_counts().sort_values(0,ascending=False)[20:45]"
   ]
  },
  {
   "cell_type": "code",
   "execution_count": 2369,
   "metadata": {},
   "outputs": [],
   "source": [
    "df_a4=df[df['Make&Model']=='toyota corolla']"
   ]
  },
  {
   "cell_type": "code",
   "execution_count": 2370,
   "metadata": {},
   "outputs": [],
   "source": [
    "df_a4 = df_a4[df_a4['price:'].notna()]"
   ]
  },
  {
   "cell_type": "code",
   "execution_count": 2371,
   "metadata": {},
   "outputs": [
    {
     "name": "stdout",
     "output_type": "stream",
     "text": [
      "<class 'pandas.core.frame.DataFrame'>\n",
      "Int64Index: 315 entries, 58 to 2755\n",
      "Data columns (total 13 columns):\n",
      " #   Column         Non-Null Count  Dtype  \n",
      "---  ------         --------------  -----  \n",
      " 0   year:          315 non-null    float64\n",
      " 1   Make&Model     315 non-null    object \n",
      " 2   trim:          315 non-null    object \n",
      " 3   condition:     249 non-null    object \n",
      " 4   odometer:      315 non-null    int64  \n",
      " 5   cylinders:     225 non-null    object \n",
      " 6   color:         203 non-null    object \n",
      " 7   transmission:  315 non-null    object \n",
      " 8   type:          170 non-null    object \n",
      " 9   status:        315 non-null    object \n",
      " 10  drive:         168 non-null    object \n",
      " 11  fuel:          315 non-null    object \n",
      " 12  price:         315 non-null    float64\n",
      "dtypes: float64(2), int64(1), object(10)\n",
      "memory usage: 34.5+ KB\n"
     ]
    }
   ],
   "source": [
    "df_a4.info()"
   ]
  },
  {
   "cell_type": "code",
   "execution_count": 2372,
   "metadata": {},
   "outputs": [],
   "source": [
    "from scipy import stats\n",
    "df_a4=df_a4[(np.abs(stats.zscore(df_a4['price:'])) < 3)]"
   ]
  },
  {
   "cell_type": "code",
   "execution_count": 2220,
   "metadata": {},
   "outputs": [],
   "source": [
    "col_drop=['Make&Model','trim:','color:','type:']\n",
    "df_a4['year:']=df_a4['year:'].astype(int)\n",
    "df_a4['price:']=df_a4['price:'].astype(int)\n",
    "df_a4.drop(columns=col_drop, inplace=True)\n",
    "df_a4=df_a4.reset_index(drop=True)"
   ]
  },
  {
   "cell_type": "code",
   "execution_count": 2222,
   "metadata": {},
   "outputs": [],
   "source": [
    "df_a4=df_a4[df_a4['price:']>500]"
   ]
  },
  {
   "cell_type": "code",
   "execution_count": 2225,
   "metadata": {},
   "outputs": [],
   "source": [
    "df_a4=df_a4.drop_duplicates()"
   ]
  },
  {
   "cell_type": "code",
   "execution_count": 2227,
   "metadata": {},
   "outputs": [],
   "source": [
    "df_a4['condition:']=df_a4['condition:'].fillna(\"good\")\n",
    "df_a4['drive:']=df_a4['drive:'].fillna(\"fwd\")\n",
    "df_a4['cylinders:']=df_a4['cylinders:'].fillna(\"4\")\n",
    "df_a4['cylinders:']=df_a4['cylinders:'].replace('other','4')\n",
    "df_a4['cylinders:']=df_a4['cylinders:'].apply(lambda x: int(x))"
   ]
  },
  {
   "cell_type": "code",
   "execution_count": 2229,
   "metadata": {},
   "outputs": [],
   "source": [
    "cleanup_nums = {\"condition:\": {\"new\":6,\"good\": 3, \"excellent\": 5,\"like\": 4,\"fair\": 2,\"salvage\": 1},\n",
    "                \"transmission:\": {\"automatic\": 1, \"manual\": 2, \"other\":3 },\n",
    "               \"status:\":{\"clean\": 4, \"salvage\": 3, \"missing\":2,\"lien\":2,\"parts\":1,\"rebuilt\":3},\n",
    "               \"drive:\":{\"4wd\": 3, \"rwd\": 2, \"fwd\":1},\n",
    "               \"fuel:\":{'electric':5,\"gas\": 4, \"diesel\": 3, \"hybrid\":2,\"other\":1}}"
   ]
  },
  {
   "cell_type": "code",
   "execution_count": 2230,
   "metadata": {},
   "outputs": [],
   "source": [
    "df_a4= df_a4.replace(cleanup_nums)"
   ]
  },
  {
   "cell_type": "code",
   "execution_count": 2232,
   "metadata": {},
   "outputs": [],
   "source": [
    "X=df_a4.drop(columns='price:')\n",
    "y=df_a4['price:']"
   ]
  },
  {
   "cell_type": "code",
   "execution_count": 2233,
   "metadata": {},
   "outputs": [],
   "source": [
    "X_train, X_test, y_train, y_test = train_test_split(X,y, test_size=0.1, random_state=47)"
   ]
  },
  {
   "cell_type": "code",
   "execution_count": 2234,
   "metadata": {},
   "outputs": [
    {
     "data": {
      "text/plain": [
       "((76, 8), (9, 8))"
      ]
     },
     "execution_count": 2234,
     "metadata": {},
     "output_type": "execute_result"
    }
   ],
   "source": [
    "X_train.shape, X_test.shape"
   ]
  },
  {
   "cell_type": "code",
   "execution_count": 2235,
   "metadata": {},
   "outputs": [
    {
     "data": {
      "text/plain": [
       "((76,), (9,))"
      ]
     },
     "execution_count": 2235,
     "metadata": {},
     "output_type": "execute_result"
    }
   ],
   "source": [
    "y_train.shape, y_test.shape"
   ]
  },
  {
   "cell_type": "code",
   "execution_count": 2236,
   "metadata": {},
   "outputs": [],
   "source": [
    "def r_squared(y, ypred):\n",
    "    ybar = np.sum(y) / len(y) #yes, we could use np.mean(y)\n",
    "    sum_sq_tot = np.sum((y - ybar)**2) #total sum of squares error\n",
    "    sum_sq_res = np.sum((y - ypred)**2) #residual sum of squares error\n",
    "    R2 = 1.0 - sum_sq_res / sum_sq_tot\n",
    "    return R2"
   ]
  },
  {
   "cell_type": "code",
   "execution_count": 2237,
   "metadata": {},
   "outputs": [
    {
     "data": {
      "text/plain": [
       "array([7230.36827957, 7230.36827957, 7230.36827957, 7230.36827957,\n",
       "       7230.36827957])"
      ]
     },
     "execution_count": 2237,
     "metadata": {},
     "output_type": "execute_result"
    }
   ],
   "source": [
    "y_tr_pred_ = train_mean * np.ones(len(y_train))\n",
    "y_tr_pred_[:5]"
   ]
  },
  {
   "cell_type": "code",
   "execution_count": 2241,
   "metadata": {},
   "outputs": [],
   "source": [
    "#Code task 10#\n",
    "#Call the StandardScaler`s fit method on `X_tr` to fit the scaler\n",
    "#then use it's `transform()` method to apply the scaling to both the train and test split\n",
    "#data (`X_tr` and `X_te`), naming the results `X_tr_scaled` and `X_te_scaled`, respectively\n",
    "scaler = StandardScaler()\n",
    "scaler.fit(X_train)\n",
    "X_tr_scaled = scaler.transform(X_train)\n",
    "X_te_scaled = scaler.transform(X_train)"
   ]
  },
  {
   "cell_type": "code",
   "execution_count": 2242,
   "metadata": {},
   "outputs": [],
   "source": [
    "lm = LinearRegression().fit(X_tr_scaled, y_train)"
   ]
  },
  {
   "cell_type": "code",
   "execution_count": 2243,
   "metadata": {},
   "outputs": [],
   "source": [
    "y_tr_pred = lm.predict(X_tr_scaled)\n",
    "y_te_pred = lm.predict(X_te_scaled)"
   ]
  },
  {
   "cell_type": "code",
   "execution_count": 2244,
   "metadata": {},
   "outputs": [],
   "source": [
    "median_r2 = r2_score(y_train, y_tr_pred)"
   ]
  },
  {
   "cell_type": "code",
   "execution_count": 2245,
   "metadata": {},
   "outputs": [
    {
     "data": {
      "text/plain": [
       "0.5047001952519999"
      ]
     },
     "execution_count": 2245,
     "metadata": {},
     "output_type": "execute_result"
    }
   ],
   "source": [
    "median_r2"
   ]
  },
  {
   "cell_type": "code",
   "execution_count": 2365,
   "metadata": {},
   "outputs": [],
   "source": [
    "final_links=['https://sfbay.craigslist.org/nby/cto/d/mill-valley-2002-honda-accord/7262281410.html']"
   ]
  },
  {
   "cell_type": "code",
   "execution_count": 2366,
   "metadata": {},
   "outputs": [],
   "source": [
    "spec_list=[]\n",
    "title_list=[]\n",
    "price_list=[]\n",
    "\n",
    "for lin in final_links:\n",
    "    try:\n",
    "        page = requests.get(lin)\n",
    "        soup = BeautifulSoup(page.text, \"html.parser\")\n",
    "        spec_list.append(soup.find_all(\"p\", {\"class\": \"attrgroup\"})[1].text.strip('\\n').replace(\"\\n\",\" \").split(\" \"))\n",
    "        title_list.append(soup.find_all(\"p\", {\"class\": \"attrgroup\"})[0].text.strip('\\n'))\n",
    "        price_list.append(str(soup.find(\"span\", {\"class\": \"price\"})).strip('$').replace(',',\"\"))\n",
    "    except:\n",
    "        continue\n",
    "df_=pd.DataFrame(columns=['year:','make:','model:','trim:','VIN:','condition:','odometer:',\n",
    "                          'cylinders:','color:','transmission:',\n",
    "                          'type:','status:','drive:','fuel:','price:'])\n",
    "for i,title in enumerate(title_list):\n",
    "    if(len(title.split())>=4 and not(title.split()[1].isnumeric())):\n",
    "            df_.loc[f'{i}','year:']=title.split()[0]\n",
    "            df_.loc[f'{i}','make:']=title.split()[1]\n",
    "            df_.loc[f'{i}','model:']=title.split()[2]\n",
    "            df_.loc[f'{i}','trim:']=title.split()[3]\n",
    "    if(len(title.split())==3 and not(title.split()[1].isnumeric())):\n",
    "            df_.loc[f'{i}','year:']=title.split()[0]\n",
    "            df_.loc[f'{i}','make:']=title.split()[1]\n",
    "            df_.loc[f'{i}','model:']=title.split()[2]\n",
    "            df_.loc[f'{i}','trim:']= np.nan\n",
    "    if(len(title.split())==4 and title.split()[1].isnumeric()):\n",
    "            df_.loc[f'{i}','year:']=title.split()[0]\n",
    "            df_.loc[f'{i}','make:']=title.split()[2]\n",
    "            df_.loc[f'{i}','model:']=title.split()[3]\n",
    "            df_.loc[f'{i}','trim:']= np.nan\n",
    "    if(len(title.split())>=5 and title.split()[1].isnumeric()):\n",
    "            df_.loc[f'{i}','year:']=title.split()[0]\n",
    "            df_.loc[f'{i}','make:']=title.split()[2]\n",
    "            df_.loc[f'{i}','model:']=title.split()[3]\n",
    "            df_.loc[f'{i}','trim:']= title.split()[4]\n",
    "\n",
    "for i,temp in enumerate(spec_list):\n",
    "    for word in temp:\n",
    "        if(word=='VIN:'):\n",
    "            df_.loc[f'{i}','VIN:']=temp[temp.index(word)+1]    \n",
    "        if(word=='condition:'):\n",
    "             df_.loc[f'{i}','condition:']=temp[temp.index(word)+1] \n",
    "        if(word=='odometer:'):\n",
    "            df_.loc[f'{i}','odometer:']=temp[temp.index(word)+1]\n",
    "        if(word=='cylinders:'):\n",
    "             df_.loc[f'{i}','cylinders:']=temp[temp.index(word)+1]\n",
    "        if(word=='color:'):\n",
    "             df_.loc[f'{i}','color:']=temp[temp.index(word)+1]\n",
    "        if(word=='transmission:'):\n",
    "             df_.loc[f'{i}','transmission:']=temp[temp.index(word)+1]\n",
    "        if(word=='type:'):\n",
    "             df_.loc[f'{i}','type:']=temp[temp.index(word)+1]\n",
    "        if(word=='status:'):\n",
    "             df_.loc[f'{i}','status:']=temp[temp.index(word)+1]\n",
    "        if(word=='drive:'):\n",
    "             df_.loc[f'{i}','drive:']=temp[temp.index(word)+1] \n",
    "        if(word=='fuel:'):\n",
    "             df_.loc[f'{i}','fuel:']=temp[temp.index(word)+1]\n",
    "for i,p in enumerate(price_list):\n",
    "    df_.loc[f'{i}','price:']=p\n",
    "df_['price:']=df_['price:'].apply(lambda x: x[21:-7])\n",
    "df_['price:'] = pd.to_numeric(df_['price:'])\n",
    "df_['year:'] = pd.to_numeric(df_['year:'])\n",
    "df_['odometer:'] = pd.to_numeric(df_['odometer:'])"
   ]
  },
  {
   "cell_type": "code",
   "execution_count": 2367,
   "metadata": {},
   "outputs": [
    {
     "data": {
      "text/html": [
       "<div>\n",
       "<style scoped>\n",
       "    .dataframe tbody tr th:only-of-type {\n",
       "        vertical-align: middle;\n",
       "    }\n",
       "\n",
       "    .dataframe tbody tr th {\n",
       "        vertical-align: top;\n",
       "    }\n",
       "\n",
       "    .dataframe thead th {\n",
       "        text-align: right;\n",
       "    }\n",
       "</style>\n",
       "<table border=\"1\" class=\"dataframe\">\n",
       "  <thead>\n",
       "    <tr style=\"text-align: right;\">\n",
       "      <th></th>\n",
       "      <th>year:</th>\n",
       "      <th>make:</th>\n",
       "      <th>model:</th>\n",
       "      <th>trim:</th>\n",
       "      <th>VIN:</th>\n",
       "      <th>condition:</th>\n",
       "      <th>odometer:</th>\n",
       "      <th>cylinders:</th>\n",
       "      <th>color:</th>\n",
       "      <th>transmission:</th>\n",
       "      <th>type:</th>\n",
       "      <th>status:</th>\n",
       "      <th>drive:</th>\n",
       "      <th>fuel:</th>\n",
       "      <th>price:</th>\n",
       "    </tr>\n",
       "  </thead>\n",
       "  <tbody>\n",
       "    <tr>\n",
       "      <th>0</th>\n",
       "      <td>2002</td>\n",
       "      <td>honda</td>\n",
       "      <td>accord</td>\n",
       "      <td>NaN</td>\n",
       "      <td>NaN</td>\n",
       "      <td>good</td>\n",
       "      <td>110000</td>\n",
       "      <td>6</td>\n",
       "      <td>white</td>\n",
       "      <td>automatic</td>\n",
       "      <td>coupe</td>\n",
       "      <td>clean</td>\n",
       "      <td>NaN</td>\n",
       "      <td>gas</td>\n",
       "      <td>1200</td>\n",
       "    </tr>\n",
       "  </tbody>\n",
       "</table>\n",
       "</div>"
      ],
      "text/plain": [
       "   year:  make:  model: trim: VIN: condition:  odometer: cylinders: color:  \\\n",
       "0   2002  honda  accord   NaN  NaN       good     110000          6  white   \n",
       "\n",
       "  transmission:  type: status: drive: fuel:  price:  \n",
       "0     automatic  coupe   clean    NaN   gas    1200  "
      ]
     },
     "execution_count": 2367,
     "metadata": {},
     "output_type": "execute_result"
    }
   ],
   "source": [
    "df_.head()"
   ]
  },
  {
   "cell_type": "code",
   "execution_count": 2260,
   "metadata": {},
   "outputs": [],
   "source": [
    "test = scaler.transform(feed)"
   ]
  },
  {
   "cell_type": "code",
   "execution_count": 2261,
   "metadata": {},
   "outputs": [],
   "source": [
    "test1 = lm.predict(test)"
   ]
  },
  {
   "cell_type": "code",
   "execution_count": 2262,
   "metadata": {},
   "outputs": [
    {
     "data": {
      "text/plain": [
       "array([14645.25548333])"
      ]
     },
     "execution_count": 2262,
     "metadata": {},
     "output_type": "execute_result"
    }
   ],
   "source": [
    "test1"
   ]
  },
  {
   "cell_type": "code",
   "execution_count": 1194,
   "metadata": {},
   "outputs": [],
   "source": [
    "df=df.drop_duplicates()"
   ]
  },
  {
   "cell_type": "code",
   "execution_count": 2344,
   "metadata": {},
   "outputs": [
    {
     "data": {
      "text/plain": [
       "(16740, 13)"
      ]
     },
     "execution_count": 2344,
     "metadata": {},
     "output_type": "execute_result"
    }
   ],
   "source": [
    "df.shape"
   ]
  },
  {
   "cell_type": "code",
   "execution_count": 928,
   "metadata": {},
   "outputs": [
    {
     "data": {
      "image/png": "[encoded data removed]",
      "text/plain": [
       "<Figure size 1440x576 with 1 Axes>"
      ]
     },
     "metadata": {
      "needs_background": "light"
     },
     "output_type": "display_data"
    }
   ],
   "source": [
    "plt.figure(figsize=(20,8))\n",
    "\n",
    "plt.subplot()\n",
    "plt.title('Car Price Distribution Plot')\n",
    "sns.distplot(df['price:'])\n",
    "\n",
    "\n",
    "plt.show()"
   ]
  },
  {
   "cell_type": "code",
   "execution_count": null,
   "metadata": {},
   "outputs": [],
   "source": []
  },
  {
   "cell_type": "code",
   "execution_count": 934,
   "metadata": {},
   "outputs": [
    {
     "data": {
      "image/png": "[encoded data removed]",
      "text/plain": [
       "<Figure size 1800x432 with 3 Axes>"
      ]
     },
     "metadata": {
      "needs_background": "light"
     },
     "output_type": "display_data"
    }
   ],
   "source": [
    "plt.figure(figsize=(25, 6))\n",
    "\n",
    "plt.subplot(1,3,1)\n",
    "plt1 = df['Make&Model'].value_counts()[45:50].plot(kind='bar')\n",
    "plt.title('Companies Histogram')\n",
    "plt1.set(xlabel = 'Car company', ylabel='Frequency of company')\n",
    "\n",
    "plt.subplot(1,3,2)\n",
    "plt1 = df['fuel:'].value_counts().plot(kind='bar')\n",
    "plt.title('Fuel Type Histogram')\n",
    "plt1.set(xlabel = 'Fuel Type', ylabel='Frequency of fuel type')\n",
    "\n",
    "plt.subplot(1,3,3)\n",
    "plt1 = df['status:'].value_counts().plot(kind='bar')\n",
    "plt.title('Car Type Histogram')\n",
    "plt1.set(xlabel = 'Car title', ylabel='Frequency of Car title status')\n",
    "\n",
    "plt.show()"
   ]
  },
  {
   "cell_type": "code",
   "execution_count": 931,
   "metadata": {},
   "outputs": [
    {
     "data": {
      "text/plain": [
       "Index(['year:', 'Make&Model', 'trim:', 'condition:', 'odometer:', 'cylinders:',\n",
       "       'color:', 'transmission:', 'type:', 'status:', 'drive:', 'fuel:',\n",
       "       'price:'],\n",
       "      dtype='object')"
      ]
     },
     "execution_count": 931,
     "metadata": {},
     "output_type": "execute_result"
    }
   ],
   "source": [
    "df.columns"
   ]
  },
  {
   "cell_type": "code",
   "execution_count": 694,
   "metadata": {},
   "outputs": [
    {
     "data": {
      "image/png": "[encoded data removed]",
      "text/plain": [
       "<Figure size 1008x432 with 1 Axes>"
      ]
     },
     "metadata": {
      "needs_background": "light"
     },
     "output_type": "display_data"
    }
   ],
   "source": [
    "plt.figure(figsize=(14,6))\n",
    "\n",
    "plt.subplot()\n",
    "plt.title('cylinders Histogram')\n",
    "sns.countplot(df['cylinders:'], palette=(\"cubehelix\"))\n",
    "\n",
    "plt.show()"
   ]
  },
  {
   "cell_type": "code",
   "execution_count": 695,
   "metadata": {},
   "outputs": [
    {
     "data": {
      "image/png": "[encoded data removed]",
      "text/plain": [
       "<Figure size 1008x432 with 1 Axes>"
      ]
     },
     "metadata": {
      "needs_background": "light"
     },
     "output_type": "display_data"
    }
   ],
   "source": [
    "plt.figure(figsize=(14,6))\n",
    "\n",
    "plt.subplot()\n",
    "plt.title('transmission Histogram')\n",
    "sns.countplot(df['transmission:'], palette=(\"cubehelix\"))\n",
    "\n",
    "\n",
    "plt.show()"
   ]
  },
  {
   "cell_type": "code",
   "execution_count": null,
   "metadata": {},
   "outputs": [],
   "source": []
  }
 ],
 "metadata": {
  "kernelspec": {
   "display_name": "Python 3",
   "language": "python",
   "name": "python3"
  },
  "language_info": {
   "codemirror_mode": {
    "name": "ipython",
    "version": 3
   },
   "file_extension": ".py",
   "mimetype": "text/x-python",
   "name": "python",
   "nbconvert_exporter": "python",
   "pygments_lexer": "ipython3",
   "version": "3.7.0"
  }
 },
 "nbformat": 4,
 "nbformat_minor": 4
}
