{
 "cells": [
  {
   "cell_type": "code",
   "execution_count": 1,
   "metadata": {},
   "outputs": [],
   "source": [
    "from dataWrangler import *\n",
    "from scrape_craigslist import Scrape\n",
    "from predictions import *\n",
    "import urllib.request\n",
    "import pandas as pd\n",
    "import numpy as np\n",
    "import warnings\n",
    "warnings.filterwarnings('ignore')\n",
    "import requests\n",
    "import datetime\n",
    "import math\n",
    "import glob   \n",
    "import os\n",
    "import io\n",
    "import re"
   ]
  },
  {
   "cell_type": "code",
   "execution_count": 2,
   "metadata": {},
   "outputs": [],
   "source": [
    "li=[]\n",
    "for filename in glob.glob(r\"..\\UsedCar-PriceEstimator\\data\\*.csv\"):\n",
    "    collection = pd.read_csv(filename, index_col=None, header=0)\n",
    "    li.append(collection)\n",
    "frame = pd.concat(li, axis=0, ignore_index=True)"
   ]
  },
  {
   "cell_type": "code",
   "execution_count": 6,
   "metadata": {},
   "outputs": [],
   "source": [
    "Link='https://sfbay.craigslist.org/nby/cto/d/santa-rosa-well-maintained-2014-toyota/7295032304.html'"
   ]
  },
  {
   "cell_type": "code",
   "execution_count": 9,
   "metadata": {},
   "outputs": [
    {
     "name": "stdout",
     "output_type": "stream",
     "text": [
      "toyota camry Accuracy: 97.52 %.\n",
      "toyota camry Accuracy: 97.69 %.\n",
      "toyota camry Accuracy: 97.96 %.\n",
      "toyota camry Accuracy: 98.05 %.\n",
      "toyota camry Accuracy: 97.97 %.\n",
      "-----------------------------------------------\n",
      " Recommended: 11400 \n",
      " Actual: 14000 \n",
      " Low: 9858 - High: 11993\n"
     ]
    }
   ],
   "source": [
    "lis=[]\n",
    "for x in range(3,29,6):\n",
    "    lis.append(singlePredict(Link,frame,x))\n",
    "\n",
    "x=0\n",
    "for l in lis:\n",
    "    x+=(l[1])\n",
    "res=int(x/len(lis))\n",
    "result=((math.floor(res / 100.0)) * 100)    \n",
    "    \n",
    "print(\"-----------------------------------------------\")\n",
    "print(' Recommended:',result,\"\\n\",\"Actual:\",lis[1][-1],\"\\n\",'Low:',min(lis)[1],'-','High:',max(lis)[1])"
   ]
  },
  {
   "cell_type": "code",
   "execution_count": null,
   "metadata": {},
   "outputs": [],
   "source": []
  }
 ],
 "metadata": {
  "kernelspec": {
   "display_name": "Python 3",
   "language": "python",
   "name": "python3"
  },
  "language_info": {
   "codemirror_mode": {
    "name": "ipython",
    "version": 3
   },
   "file_extension": ".py",
   "mimetype": "text/x-python",
   "name": "python",
   "nbconvert_exporter": "python",
   "pygments_lexer": "ipython3",
   "version": "3.7.0"
  }
 },
 "nbformat": 4,
 "nbformat_minor": 4
}
