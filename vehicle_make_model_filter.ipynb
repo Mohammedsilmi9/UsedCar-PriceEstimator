{
 "cells": [
  {
   "cell_type": "code",
   "execution_count": 1,
   "metadata": {},
   "outputs": [],
   "source": [
    "from bs4 import BeautifulSoup\n",
    "import warnings\n",
    "warnings.filterwarnings('ignore')\n",
    "from pandas import DataFrame\n",
    "import pandas_profiling\n",
    "from time import sleep\n",
    "import urllib.request\n",
    "import matplotlib.pyplot as plt\n",
    "import seaborn as sns\n",
    "import pandas as pd\n",
    "import numpy as np\n",
    "import requests\n",
    "import datetime\n",
    "import requests\n",
    "import glob   \n",
    "import os\n",
    "import io\n",
    "import re\n",
    "from sklearn import svm\n",
    "from process_craigslist import Process\n",
    "from scrape_craigslist import Scrape"
   ]
  },
  {
   "cell_type": "code",
   "execution_count": 2,
   "metadata": {},
   "outputs": [],
   "source": [
    "import pickle\n",
    "from scipy import stats\n",
    "from sklearn import __version__ as sklearn_version\n",
    "from sklearn.decomposition import PCA\n",
    "from sklearn.preprocessing import scale\n",
    "from sklearn.model_selection import train_test_split, cross_validate, GridSearchCV, learning_curve\n",
    "from sklearn.preprocessing import StandardScaler, MinMaxScaler\n",
    "from sklearn.dummy import DummyRegressor\n",
    "from sklearn.linear_model import LinearRegression\n",
    "from sklearn.ensemble import RandomForestRegressor\n",
    "from sklearn.metrics import r2_score, mean_squared_error, mean_absolute_error\n",
    "from sklearn.pipeline import make_pipeline\n",
    "from sklearn.impute import SimpleImputer\n",
    "from sklearn.feature_selection import SelectKBest, f_regression"
   ]
  },
  {
   "cell_type": "code",
   "execution_count": 3,
   "metadata": {},
   "outputs": [],
   "source": [
    "li=[]\n",
    "for filename in glob.glob(r\"C:\\Users\\Silmi\\Desktop\\UsedCar-PriceEstimator\\data\\*.csv\"):\n",
    "    collection = pd.read_csv(filename, index_col=None, header=0)\n",
    "    li.append(collection)\n",
    "\n",
    "frame = pd.concat(li, axis=0, ignore_index=True)"
   ]
  },
  {
   "cell_type": "code",
   "execution_count": 4,
   "metadata": {},
   "outputs": [
    {
     "data": {
      "text/plain": [
       "(21912, 6)"
      ]
     },
     "execution_count": 4,
     "metadata": {},
     "output_type": "execute_result"
    }
   ],
   "source": [
    "#Process(bigframe dataframe,makmod str)\n",
    "#_df=Process(frame,'hyundai elantra')\n",
    "_df=Process(frame)\n",
    "#_df['Make&Model'].value_counts()[56:66]\n",
    "_df.shape"
   ]
  },
  {
   "cell_type": "code",
   "execution_count": 5,
   "metadata": {},
   "outputs": [],
   "source": [
    "_df=Process(frame,'toyota corolla')"
   ]
  },
  {
   "cell_type": "code",
   "execution_count": 6,
   "metadata": {},
   "outputs": [],
   "source": [
    "profile=_df.profile_report()"
   ]
  },
  {
   "cell_type": "code",
   "execution_count": 7,
   "metadata": {},
   "outputs": [],
   "source": [
    "#profile"
   ]
  },
  {
   "cell_type": "code",
   "execution_count": 8,
   "metadata": {},
   "outputs": [],
   "source": [
    "X=_df.drop(columns='price:')\n",
    "y=_df['price:']\n",
    "X_train, X_test, y_train, y_test = train_test_split(X,y, test_size=0.1, random_state=47)\n",
    "scaler = StandardScaler()\n",
    "scaler.fit(X_train)\n",
    "X_tr_scaled = scaler.transform(X_train)\n",
    "X_te_scaled = scaler.transform(X_test)\n",
    "Rm = RandomForestRegressor().fit(X_tr_scaled, y_train)\n",
    "#clf = svm.SVC()\n",
    "#clf.fit(X_tr_scaled, y_train)\n",
    "y_tr_pred = Rm.predict(X_tr_scaled)\n",
    "y_te_pred = Rm.predict(X_te_scaled)"
   ]
  },
  {
   "cell_type": "code",
   "execution_count": 9,
   "metadata": {},
   "outputs": [],
   "source": [
    "median_r2 = r2_score(y_train, y_tr_pred)"
   ]
  },
  {
   "cell_type": "code",
   "execution_count": 10,
   "metadata": {},
   "outputs": [
    {
     "data": {
      "text/plain": [
       "0.8540326875370348"
      ]
     },
     "execution_count": 10,
     "metadata": {},
     "output_type": "execute_result"
    }
   ],
   "source": [
    "median_r2"
   ]
  },
  {
   "cell_type": "code",
   "execution_count": 16,
   "metadata": {},
   "outputs": [],
   "source": [
    "final_lin=['https://sfbay.craigslist.org/eby/cto/d/martinez-2018-toyota-corolla-le-sedan/7263747364.html']"
   ]
  },
  {
   "cell_type": "code",
   "execution_count": 17,
   "metadata": {},
   "outputs": [],
   "source": [
    "test=Scrape(final_lin)\n",
    "feed=Process(test,'toyota corolla')"
   ]
  },
  {
   "cell_type": "code",
   "execution_count": 18,
   "metadata": {},
   "outputs": [
    {
     "data": {
      "text/html": [
       "<div>\n",
       "<style scoped>\n",
       "    .dataframe tbody tr th:only-of-type {\n",
       "        vertical-align: middle;\n",
       "    }\n",
       "\n",
       "    .dataframe tbody tr th {\n",
       "        vertical-align: top;\n",
       "    }\n",
       "\n",
       "    .dataframe thead th {\n",
       "        text-align: right;\n",
       "    }\n",
       "</style>\n",
       "<table border=\"1\" class=\"dataframe\">\n",
       "  <thead>\n",
       "    <tr style=\"text-align: right;\">\n",
       "      <th></th>\n",
       "      <th>year:</th>\n",
       "      <th>condition:</th>\n",
       "      <th>odometer:</th>\n",
       "      <th>status:</th>\n",
       "      <th>price:</th>\n",
       "    </tr>\n",
       "  </thead>\n",
       "  <tbody>\n",
       "    <tr>\n",
       "      <th>0</th>\n",
       "      <td>4</td>\n",
       "      <td>3</td>\n",
       "      <td>45000</td>\n",
       "      <td>2</td>\n",
       "      <td>13900</td>\n",
       "    </tr>\n",
       "  </tbody>\n",
       "</table>\n",
       "</div>"
      ],
      "text/plain": [
       "   year:  condition:  odometer:  status:  price:\n",
       "0      4           3      45000        2   13900"
      ]
     },
     "execution_count": 18,
     "metadata": {},
     "output_type": "execute_result"
    }
   ],
   "source": [
    "feed"
   ]
  },
  {
   "cell_type": "code",
   "execution_count": 19,
   "metadata": {},
   "outputs": [
    {
     "data": {
      "text/plain": [
       "1.0048308992489552"
      ]
     },
     "execution_count": 19,
     "metadata": {},
     "output_type": "execute_result"
    }
   ],
   "source": [
    "\n",
    "x_actual=feed.drop(columns='price:')\n",
    "x_values = scaler.transform(x_actual)\n",
    "y_actual=feed['price:']\n",
    "pred_price = Rm.predict(x_values)\n",
    "pred_price[0]\n",
    "rate=(y_actual)/(pred_price[0])\n",
    "rate[0]"
   ]
  },
  {
   "cell_type": "code",
   "execution_count": 20,
   "metadata": {},
   "outputs": [
    {
     "name": "stdout",
     "output_type": "stream",
     "text": [
      "actul:0    13900\n",
      "Name: price:, dtype: int32 predicted: 13833\n"
     ]
    }
   ],
   "source": [
    "print(f\"actul:{y_actual}\",f\"predicted: {int(pred_price[0])}\")"
   ]
  },
  {
   "cell_type": "code",
   "execution_count": null,
   "metadata": {},
   "outputs": [],
   "source": []
  },
  {
   "cell_type": "code",
   "execution_count": null,
   "metadata": {},
   "outputs": [],
   "source": []
  },
  {
   "cell_type": "code",
   "execution_count": null,
   "metadata": {},
   "outputs": [],
   "source": []
  }
 ],
 "metadata": {
  "kernelspec": {
   "display_name": "Python 3",
   "language": "python",
   "name": "python3"
  },
  "language_info": {
   "codemirror_mode": {
    "name": "ipython",
    "version": 3
   },
   "file_extension": ".py",
   "mimetype": "text/x-python",
   "name": "python",
   "nbconvert_exporter": "python",
   "pygments_lexer": "ipython3",
   "version": "3.7.0"
  }
 },
 "nbformat": 4,
 "nbformat_minor": 4
}
