{
 "cells": [
  {
   "cell_type": "code",
   "execution_count": 31,
   "metadata": {},
   "outputs": [],
   "source": [
    "from bs4 import BeautifulSoup\n",
    "from pandas import DataFrame\n",
    "from time import sleep\n",
    "import urllib.request\n",
    "import pandas as pd\n",
    "import numpy as np\n",
    "import requests\n",
    "import datetime\n",
    "import requests\n",
    "import glob   \n",
    "import os\n",
    "import io\n",
    "import re"
   ]
  },
  {
   "cell_type": "code",
   "execution_count": 32,
   "metadata": {},
   "outputs": [],
   "source": [
    "make_model_keys=pd.read_html('https://www.kbb.com/car-make-model-list/new/view-all/')"
   ]
  },
  {
   "cell_type": "code",
   "execution_count": 33,
   "metadata": {},
   "outputs": [],
   "source": [
    "df_make_model=pd.DataFrame(make_model_keys[0])"
   ]
  },
  {
   "cell_type": "code",
   "execution_count": 34,
   "metadata": {},
   "outputs": [],
   "source": [
    "df_make_model=df_make_model[['Make','Model']]"
   ]
  },
  {
   "cell_type": "code",
   "execution_count": 35,
   "metadata": {},
   "outputs": [
    {
     "data": {
      "text/plain": [
       "44"
      ]
     },
     "execution_count": 35,
     "metadata": {},
     "output_type": "execute_result"
    }
   ],
   "source": [
    "df_make_model['Make'].nunique()"
   ]
  },
  {
   "cell_type": "code",
   "execution_count": 50,
   "metadata": {},
   "outputs": [],
   "source": [
    "model_list=df_make_model['Model'].tolist()"
   ]
  },
  {
   "cell_type": "code",
   "execution_count": 36,
   "metadata": {},
   "outputs": [],
   "source": [
    "make_list=['Toyota','Honda','Chevrolet','Ford','Mercedes','Jeep','BMW',\n",
    "           'Porsche','Subaru','Nissan','Cadillac','Volkswagen','Lexus',\n",
    "           'Audi','Ferrari','Volvo','Jaguar','GMC','Buick','Acura','Bentley',\n",
    "           'Dodge','Hyundai','Lincoln','Mazda','Land Rover','Tesla','Ram','Kia',\n",
    "           'Chrysler','Pontiac','Infiniti','Mitsubishi','Oldsmobile','Maserati','Fiat','Mini',\n",
    "           'Alfa Romeo','Saab','Genesis','Suzuki','MG','Hummer']"
   ]
  },
  {
   "cell_type": "code",
   "execution_count": null,
   "metadata": {},
   "outputs": [],
   "source": []
  },
  {
   "cell_type": "code",
   "execution_count": 38,
   "metadata": {},
   "outputs": [],
   "source": [
    "collection_df = pd.DataFrame()\n",
    "for f in glob.glob(r\"C:\\Users\\Silmi\\Desktop\\UsedCar-PriceEstimator\\data\\*.csv\"):\n",
    "    appenddata = pd.read_csv(f)\n",
    "    collection_df = collection_df.append(appenddata)"
   ]
  },
  {
   "cell_type": "code",
   "execution_count": 41,
   "metadata": {},
   "outputs": [
    {
     "data": {
      "text/plain": [
       "(21176, 16)"
      ]
     },
     "execution_count": 41,
     "metadata": {},
     "output_type": "execute_result"
    }
   ],
   "source": [
    "collection_df.shape"
   ]
  },
  {
   "cell_type": "code",
   "execution_count": 42,
   "metadata": {},
   "outputs": [],
   "source": [
    "df=collection_df[collection_df['make:'].isin(make_list)]"
   ]
  },
  {
   "cell_type": "code",
   "execution_count": 43,
   "metadata": {},
   "outputs": [
    {
     "data": {
      "text/plain": [
       "(12524, 16)"
      ]
     },
     "execution_count": 43,
     "metadata": {},
     "output_type": "execute_result"
    }
   ],
   "source": [
    "df.shape"
   ]
  },
  {
   "cell_type": "code",
   "execution_count": 55,
   "metadata": {},
   "outputs": [],
   "source": [
    "df_filter=df[df['model:'].isin(model_list) ]"
   ]
  },
  {
   "cell_type": "code",
   "execution_count": 56,
   "metadata": {},
   "outputs": [
    {
     "data": {
      "text/plain": [
       "(2146, 16)"
      ]
     },
     "execution_count": 56,
     "metadata": {},
     "output_type": "execute_result"
    }
   ],
   "source": [
    "df_filter.shape"
   ]
  },
  {
   "cell_type": "code",
   "execution_count": 63,
   "metadata": {},
   "outputs": [],
   "source": [
    "df=df_filter.iloc[:,2:16]"
   ]
  },
  {
   "cell_type": "code",
   "execution_count": 68,
   "metadata": {},
   "outputs": [
    {
     "data": {
      "text/html": [
       "<div>\n",
       "<style scoped>\n",
       "    .dataframe tbody tr th:only-of-type {\n",
       "        vertical-align: middle;\n",
       "    }\n",
       "\n",
       "    .dataframe tbody tr th {\n",
       "        vertical-align: top;\n",
       "    }\n",
       "\n",
       "    .dataframe thead th {\n",
       "        text-align: right;\n",
       "    }\n",
       "</style>\n",
       "<table border=\"1\" class=\"dataframe\">\n",
       "  <thead>\n",
       "    <tr style=\"text-align: right;\">\n",
       "      <th></th>\n",
       "      <th>make:</th>\n",
       "      <th>model:</th>\n",
       "      <th>trim:</th>\n",
       "      <th>VIN:</th>\n",
       "      <th>condition:</th>\n",
       "      <th>odometer:</th>\n",
       "      <th>cylinders:</th>\n",
       "      <th>color:</th>\n",
       "      <th>transmission:</th>\n",
       "      <th>type:</th>\n",
       "      <th>status:</th>\n",
       "      <th>drive:</th>\n",
       "      <th>fuel:</th>\n",
       "      <th>price:</th>\n",
       "    </tr>\n",
       "  </thead>\n",
       "  <tbody>\n",
       "    <tr>\n",
       "      <th>2733</th>\n",
       "      <td>Honda</td>\n",
       "      <td>Accord</td>\n",
       "      <td>LX</td>\n",
       "      <td>NaN</td>\n",
       "      <td>NaN</td>\n",
       "      <td>68940</td>\n",
       "      <td>4</td>\n",
       "      <td>NaN</td>\n",
       "      <td>automatic</td>\n",
       "      <td>NaN</td>\n",
       "      <td>clean</td>\n",
       "      <td>NaN</td>\n",
       "      <td>gas</td>\n",
       "      <td>11500.0</td>\n",
       "    </tr>\n",
       "    <tr>\n",
       "      <th>2746</th>\n",
       "      <td>Jeep</td>\n",
       "      <td>Wrangler</td>\n",
       "      <td>NaN</td>\n",
       "      <td>1J4FA24189L786142</td>\n",
       "      <td>excellent</td>\n",
       "      <td>108000</td>\n",
       "      <td>6</td>\n",
       "      <td>white</td>\n",
       "      <td>manual</td>\n",
       "      <td>SUV</td>\n",
       "      <td>clean</td>\n",
       "      <td>4wd</td>\n",
       "      <td>gas</td>\n",
       "      <td>18900.0</td>\n",
       "    </tr>\n",
       "    <tr>\n",
       "      <th>2756</th>\n",
       "      <td>Honda</td>\n",
       "      <td>Accord</td>\n",
       "      <td>LX</td>\n",
       "      <td>1HGCM66366A028797</td>\n",
       "      <td>good</td>\n",
       "      <td>108188</td>\n",
       "      <td>6</td>\n",
       "      <td>silver</td>\n",
       "      <td>automatic</td>\n",
       "      <td>sedan</td>\n",
       "      <td>clean</td>\n",
       "      <td>NaN</td>\n",
       "      <td>gas</td>\n",
       "      <td>5500.0</td>\n",
       "    </tr>\n",
       "    <tr>\n",
       "      <th>2764</th>\n",
       "      <td>Porsche</td>\n",
       "      <td>911</td>\n",
       "      <td>NaN</td>\n",
       "      <td>NaN</td>\n",
       "      <td>good</td>\n",
       "      <td>75000</td>\n",
       "      <td>6</td>\n",
       "      <td>red</td>\n",
       "      <td>manual</td>\n",
       "      <td>convertible</td>\n",
       "      <td>clean</td>\n",
       "      <td>rwd</td>\n",
       "      <td>gas</td>\n",
       "      <td>49000.0</td>\n",
       "    </tr>\n",
       "    <tr>\n",
       "      <th>2767</th>\n",
       "      <td>Honda</td>\n",
       "      <td>Civic</td>\n",
       "      <td>NaN</td>\n",
       "      <td>NaN</td>\n",
       "      <td>excellent</td>\n",
       "      <td>103000</td>\n",
       "      <td>4</td>\n",
       "      <td>brown</td>\n",
       "      <td>automatic</td>\n",
       "      <td>sedan</td>\n",
       "      <td>salvage</td>\n",
       "      <td>fwd</td>\n",
       "      <td>gas</td>\n",
       "      <td>3850.0</td>\n",
       "    </tr>\n",
       "  </tbody>\n",
       "</table>\n",
       "</div>"
      ],
      "text/plain": [
       "        make:    model: trim:               VIN: condition:  odometer:  \\\n",
       "2733    Honda    Accord    LX                NaN        NaN      68940   \n",
       "2746     Jeep  Wrangler   NaN  1J4FA24189L786142  excellent     108000   \n",
       "2756    Honda    Accord    LX  1HGCM66366A028797       good     108188   \n",
       "2764  Porsche       911   NaN                NaN       good      75000   \n",
       "2767    Honda     Civic   NaN                NaN  excellent     103000   \n",
       "\n",
       "     cylinders:  color: transmission:        type:  status: drive: fuel:  \\\n",
       "2733          4     NaN     automatic          NaN    clean    NaN   gas   \n",
       "2746          6   white        manual          SUV    clean    4wd   gas   \n",
       "2756          6  silver     automatic        sedan    clean    NaN   gas   \n",
       "2764          6     red        manual  convertible    clean    rwd   gas   \n",
       "2767          4   brown     automatic        sedan  salvage    fwd   gas   \n",
       "\n",
       "       price:  \n",
       "2733  11500.0  \n",
       "2746  18900.0  \n",
       "2756   5500.0  \n",
       "2764  49000.0  \n",
       "2767   3850.0  "
      ]
     },
     "execution_count": 68,
     "metadata": {},
     "output_type": "execute_result"
    }
   ],
   "source": [
    "df.tail()"
   ]
  },
  {
   "cell_type": "code",
   "execution_count": null,
   "metadata": {},
   "outputs": [],
   "source": []
  }
 ],
 "metadata": {
  "kernelspec": {
   "display_name": "Python 3",
   "language": "python",
   "name": "python3"
  },
  "language_info": {
   "codemirror_mode": {
    "name": "ipython",
    "version": 3
   },
   "file_extension": ".py",
   "mimetype": "text/x-python",
   "name": "python",
   "nbconvert_exporter": "python",
   "pygments_lexer": "ipython3",
   "version": "3.7.0"
  }
 },
 "nbformat": 4,
 "nbformat_minor": 4
}
