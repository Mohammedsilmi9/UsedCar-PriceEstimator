{
 "cells": [
  {
   "cell_type": "code",
   "execution_count": 1,
   "metadata": {},
   "outputs": [],
   "source": [
    "from sklearn.model_selection import train_test_split, cross_validate, GridSearchCV, learning_curve\n",
    "from sklearn.metrics import r2_score, mean_squared_error, mean_absolute_error\n",
    "from sklearn.feature_selection import SelectKBest, f_regression\n",
    "from sklearn.preprocessing import StandardScaler, MinMaxScaler\n",
    "from sklearn.ensemble import RandomForestRegressor\n",
    "from sklearn.linear_model import LinearRegression\n",
    "from sklearn.preprocessing import MinMaxScaler\n",
    "from sklearn.preprocessing import scale\n",
    "from process_craigslist import Process\n",
    "from scrape_craigslist import Scrape\n",
    "from bs4 import BeautifulSoup\n",
    "from pandas import DataFrame\n",
    "import pandas_profiling\n",
    "from scipy import stats\n",
    "import urllib.request\n",
    "import pandas as pd\n",
    "import numpy as np\n",
    "import warnings\n",
    "warnings.filterwarnings('ignore')\n",
    "import requests\n",
    "import datetime\n",
    "import pickle\n",
    "import glob   \n",
    "import os\n",
    "import io\n",
    "import re"
   ]
  },
  {
   "cell_type": "code",
   "execution_count": 2,
   "metadata": {},
   "outputs": [],
   "source": [
    "li=[]\n",
    "for filename in glob.glob(r\"C:\\Users\\Silmi\\Desktop\\UsedCar-PriceEstimator\\data\\*.csv\"):\n",
    "    collection = pd.read_csv(filename, index_col=None, header=0)\n",
    "    li.append(collection)\n",
    "\n",
    "frame = pd.concat(li, axis=0, ignore_index=True)"
   ]
  },
  {
   "cell_type": "code",
   "execution_count": 23,
   "metadata": {},
   "outputs": [],
   "source": [
    "#_df=Process(frame,'hyundai elantra')\n",
    "#'float' object has no attribute 'lower'\n",
    "_df=Process(frame)\n",
    "#_df['Make&Model'].value_counts()[-100:-80]"
   ]
  },
  {
   "cell_type": "code",
   "execution_count": 24,
   "metadata": {},
   "outputs": [],
   "source": [
    "#profile=_df.profile_report()\n",
    "#profile"
   ]
  },
  {
   "cell_type": "code",
   "execution_count": 65,
   "metadata": {},
   "outputs": [
    {
     "name": "stdout",
     "output_type": "stream",
     "text": [
      "toyota prius\n",
      "honda civic\n",
      "honda accord\n",
      "toyota camry\n",
      "toyota tacoma\n",
      "chevrolet silverado\n",
      "toyota corolla\n",
      "ford f150\n",
      "ford mustang\n",
      "dodge ram\n"
     ]
    }
   ],
   "source": [
    "mak=_df['Make&Model'].value_counts()[0:10].index.tolist()\n"
   ]
  },
  {
   "cell_type": "code",
   "execution_count": 66,
   "metadata": {},
   "outputs": [
    {
     "name": "stdout",
     "output_type": "stream",
     "text": [
      "0.9547053065490143\n",
      "0.9450290617641105\n",
      "0.9462436198633822\n",
      "0.9599348821846283\n",
      "0.9448833128601036\n",
      "0.9432328807931019\n",
      "0.9473814885969771\n",
      "0.9536636463258412\n",
      "0.9552770958493607\n",
      "0.9533396097606841\n"
     ]
    }
   ],
   "source": [
    "for m in mak:\n",
    "    _df=Process(frame,'toyota corolla')\n",
    "    X=_df.drop(columns='price:')\n",
    "    y=_df['price:']\n",
    "    X_train, X_test, y_train, y_test = train_test_split(X,y, test_size=0.2, random_state=66)\n",
    "    scaler = StandardScaler()\n",
    "    #scaler= MinMaxScaler()\n",
    "    scaler.fit(X_train)\n",
    "    X_tr_scaled = scaler.transform(X_train)\n",
    "    X_te_scaled = scaler.transform(X_test)\n",
    "    Rm= RandomForestRegressor().fit(X_tr_scaled,y_train)\n",
    "    y_tr_pred = Rm.predict(X_tr_scaled)\n",
    "    y_te_pred = Rm.predict(X_te_scaled)\n",
    "    print(sum(y_test/y_te_pred)/len(y_test))"
   ]
  },
  {
   "cell_type": "code",
   "execution_count": 18,
   "metadata": {},
   "outputs": [],
   "source": []
  },
  {
   "cell_type": "code",
   "execution_count": 67,
   "metadata": {},
   "outputs": [],
   "source": [
    "median_r2 = r2_score(y_train, y_tr_pred)"
   ]
  },
  {
   "cell_type": "code",
   "execution_count": 68,
   "metadata": {},
   "outputs": [
    {
     "data": {
      "text/plain": [
       "0.8635779096715338"
      ]
     },
     "execution_count": 68,
     "metadata": {},
     "output_type": "execute_result"
    }
   ],
   "source": [
    "median_r2"
   ]
  }
 ],
 "metadata": {
  "kernelspec": {
   "display_name": "Python 3",
   "language": "python",
   "name": "python3"
  },
  "language_info": {
   "codemirror_mode": {
    "name": "ipython",
    "version": 3
   },
   "file_extension": ".py",
   "mimetype": "text/x-python",
   "name": "python",
   "nbconvert_exporter": "python",
   "pygments_lexer": "ipython3",
   "version": "3.7.0"
  }
 },
 "nbformat": 4,
 "nbformat_minor": 4
}
