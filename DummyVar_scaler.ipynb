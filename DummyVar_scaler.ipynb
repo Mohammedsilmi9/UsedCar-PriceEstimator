{
 "cells": [
  {
   "cell_type": "code",
   "execution_count": 110,
   "metadata": {},
   "outputs": [],
   "source": [
    "from sklearn.model_selection import train_test_split, cross_validate, GridSearchCV, learning_curve\n",
    "from sklearn.preprocessing import StandardScaler, MinMaxScaler\n",
    "from dataWrangler import *\n",
    "from sklearn.ensemble import RandomForestRegressor\n",
    "from scipy import stats\n",
    "import pandas as pd\n",
    "from scrape_craigslist import Scrape\n",
    "from predictions import *\n",
    "import urllib.request\n",
    "import warnings\n",
    "warnings.filterwarnings('ignore')\n",
    "import requests\n",
    "import datetime\n",
    "import math\n",
    "import glob   \n",
    "import os\n",
    "import io\n",
    "import re\n",
    "import numpy as np"
   ]
  },
  {
   "cell_type": "code",
   "execution_count": 111,
   "metadata": {},
   "outputs": [],
   "source": [
    "li=[]\n",
    "for filename in glob.glob(r\"..\\UsedCar-PriceEstimator\\data\\*.csv\"):\n",
    "    collection = pd.read_csv(filename, index_col=None, header=0)\n",
    "    li.append(collection)\n",
    "frame = pd.concat(li, axis=0, ignore_index=True)\n",
    "Link='https://sfbay.craigslist.org/sby/cto/d/san-jose-good-condition-mercedes-benz/7314480689.html'\n",
    "lis=[]\n",
    "\n",
    "link=[Link]\n",
    "raw=Scrape(link)\n",
    "df1=Spell(raw)\n",
    "df2=Replace(df1)\n",
    "df3=Process(df2)\n",
    "inputcar=df3.iloc[0,0]\n",
    "df_spelled=Spell(frame)\n",
    "df_replaced=Replace(df_spelled)\n",
    "proccessed=Process(df_replaced,inputcar)\n",
    "df=Outliers_light(proccessed)\n",
    "df=delete_outliers(df)"
   ]
  },
  {
   "cell_type": "code",
   "execution_count": 112,
   "metadata": {},
   "outputs": [],
   "source": [
    "first_len=len(df.columns)"
   ]
  },
  {
   "cell_type": "code",
   "execution_count": 113,
   "metadata": {},
   "outputs": [],
   "source": [
    "#get_dummies\n",
    "df['score:'] = df['score:'].astype(int)\n",
    "df['score:'] = df['score:'].astype(str)\n",
    "df=pd.get_dummies(df)"
   ]
  },
  {
   "cell_type": "code",
   "execution_count": 114,
   "metadata": {},
   "outputs": [],
   "source": [
    "second_len=len(df.columns)"
   ]
  },
  {
   "cell_type": "code",
   "execution_count": 115,
   "metadata": {},
   "outputs": [
    {
     "data": {
      "text/plain": [
       "(4, 6)"
      ]
     },
     "execution_count": 115,
     "metadata": {},
     "output_type": "execute_result"
    }
   ],
   "source": [
    "first_len,second_len"
   ]
  },
  {
   "cell_type": "code",
   "execution_count": 116,
   "metadata": {},
   "outputs": [
    {
     "name": "stdout",
     "output_type": "stream",
     "text": [
      "mercedes-benz c300 Accuracy: 98.44 %.\n"
     ]
    },
    {
     "data": {
      "text/plain": [
       "('predicted:', 7207, 'actual:', 7800)"
      ]
     },
     "execution_count": 116,
     "metadata": {},
     "output_type": "execute_result"
    }
   ],
   "source": [
    "X=df.drop(columns='price:')\n",
    "scaler = StandardScaler()\n",
    "scaler.fit(X)\n",
    "scaler.transform(X)\n",
    "y=df['price:']\n",
    "train_features, test_features, train_labels, test_labels = \\\n",
    "train_test_split(X, y, test_size = 0.05, random_state = 3)\n",
    "#n_estimators down below can be specified\n",
    "#max_depth\n",
    "rf = RandomForestRegressor(n_estimators=18,random_state = 20,max_depth=4)\n",
    "rf.fit(train_features, train_labels);\n",
    "# Calculate mean absolute percentage error (MAPE)\n",
    "y_pred=rf.predict(test_features)\n",
    "errors=np.abs((test_labels - y_pred))\n",
    "mape = 100 * (errors / test_labels)\n",
    "accuracy = 100 - np.mean(mape)\n",
    "print(f'{inputcar} Accuracy:', round(accuracy, 2), '%.')\n",
    "        \n",
    "        \n",
    "if(len(df.columns)>6):\n",
    "    x_feat=df3.drop(['Make&Model','price:'],axis=1)\n",
    "if(len(df.columns)<6):\n",
    "    x_feat=df3.drop(['Make&Model','cylinders:','price:'],axis=1)\n",
    "    \n",
    "x_feat=sample_dummies(x_feat,X)\n",
    "\n",
    "scaler.transform(x_feat)\n",
    "y_actual=df3[['price:']]\n",
    "result=\"predicted:\",int(2**rf.predict(x_feat)[0]),\"actual:\",y_actual.values[0][0]\n",
    "result\n"
   ]
  },
  {
   "cell_type": "code",
   "execution_count": 120,
   "metadata": {},
   "outputs": [],
   "source": [
    "def sample_dummies(x_feat,X):\n",
    "    x_feat['score:_0']=0\n",
    "    x_feat['score:_1']=0\n",
    "    x_feat['score:_2']=0\n",
    "    x_feat['score:_3']=0\n",
    "    \n",
    "    for x in x_feat.values:\n",
    "        if(x[1]==0):\n",
    "            x_feat['score:_0']=0\n",
    "        if(x[1]==1):\n",
    "            x_feat['score:_1']=1\n",
    "        if(x[1]==2):\n",
    "            x_feat['score:_2']=1\n",
    "        if(x[1]==3):\n",
    "            x_feat['score:_3']=1\n",
    "    \n",
    "    extra_columns=list((set(x_feat.columns)-set(X.columns)))\n",
    "    x_feat.drop(columns=extra_columns,inplace=True)\n",
    "    x_feat=x_feat.reset_index(drop=True)\n",
    "    return x_feat"
   ]
  },
  {
   "cell_type": "code",
   "execution_count": null,
   "metadata": {},
   "outputs": [],
   "source": []
  },
  {
   "cell_type": "code",
   "execution_count": 118,
   "metadata": {},
   "outputs": [
    {
     "data": {
      "text/html": [
       "<div>\n",
       "<style scoped>\n",
       "    .dataframe tbody tr th:only-of-type {\n",
       "        vertical-align: middle;\n",
       "    }\n",
       "\n",
       "    .dataframe tbody tr th {\n",
       "        vertical-align: top;\n",
       "    }\n",
       "\n",
       "    .dataframe thead th {\n",
       "        text-align: right;\n",
       "    }\n",
       "</style>\n",
       "<table border=\"1\" class=\"dataframe\">\n",
       "  <thead>\n",
       "    <tr style=\"text-align: right;\">\n",
       "      <th></th>\n",
       "      <th>year:</th>\n",
       "      <th>odometer:</th>\n",
       "      <th>score:_1</th>\n",
       "      <th>score:_2</th>\n",
       "      <th>score:_3</th>\n",
       "    </tr>\n",
       "  </thead>\n",
       "  <tbody>\n",
       "    <tr>\n",
       "      <th>0</th>\n",
       "      <td>16</td>\n",
       "      <td>130800</td>\n",
       "      <td>0</td>\n",
       "      <td>0</td>\n",
       "      <td>0</td>\n",
       "    </tr>\n",
       "  </tbody>\n",
       "</table>\n",
       "</div>"
      ],
      "text/plain": [
       "   year:  odometer:  score:_1  score:_2  score:_3\n",
       "0     16     130800         0         0         0"
      ]
     },
     "execution_count": 118,
     "metadata": {},
     "output_type": "execute_result"
    }
   ],
   "source": [
    "x_feat"
   ]
  },
  {
   "cell_type": "code",
   "execution_count": 119,
   "metadata": {},
   "outputs": [
    {
     "data": {
      "text/html": [
       "<div>\n",
       "<style scoped>\n",
       "    .dataframe tbody tr th:only-of-type {\n",
       "        vertical-align: middle;\n",
       "    }\n",
       "\n",
       "    .dataframe tbody tr th {\n",
       "        vertical-align: top;\n",
       "    }\n",
       "\n",
       "    .dataframe thead th {\n",
       "        text-align: right;\n",
       "    }\n",
       "</style>\n",
       "<table border=\"1\" class=\"dataframe\">\n",
       "  <thead>\n",
       "    <tr style=\"text-align: right;\">\n",
       "      <th></th>\n",
       "      <th>year:</th>\n",
       "      <th>odometer:</th>\n",
       "      <th>score:_1</th>\n",
       "      <th>score:_2</th>\n",
       "      <th>score:_3</th>\n",
       "    </tr>\n",
       "  </thead>\n",
       "  <tbody>\n",
       "    <tr>\n",
       "      <th>0</th>\n",
       "      <td>3.0</td>\n",
       "      <td>12550.0</td>\n",
       "      <td>0</td>\n",
       "      <td>0</td>\n",
       "      <td>1</td>\n",
       "    </tr>\n",
       "  </tbody>\n",
       "</table>\n",
       "</div>"
      ],
      "text/plain": [
       "   year:  odometer:  score:_1  score:_2  score:_3\n",
       "0    3.0    12550.0         0         0         1"
      ]
     },
     "execution_count": 119,
     "metadata": {},
     "output_type": "execute_result"
    }
   ],
   "source": [
    "X.head(1)"
   ]
  },
  {
   "cell_type": "code",
   "execution_count": null,
   "metadata": {},
   "outputs": [],
   "source": []
  }
 ],
 "metadata": {
  "kernelspec": {
   "display_name": "Python 3",
   "language": "python",
   "name": "python3"
  },
  "language_info": {
   "codemirror_mode": {
    "name": "ipython",
    "version": 3
   },
   "file_extension": ".py",
   "mimetype": "text/x-python",
   "name": "python",
   "nbconvert_exporter": "python",
   "pygments_lexer": "ipython3",
   "version": "3.7.0"
  }
 },
 "nbformat": 4,
 "nbformat_minor": 4
}
