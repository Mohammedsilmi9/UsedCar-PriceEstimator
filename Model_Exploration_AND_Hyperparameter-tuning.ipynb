{
 "cells": [
  {
   "cell_type": "code",
   "execution_count": 214,
   "metadata": {},
   "outputs": [],
   "source": [
    "from sklearn.model_selection import train_test_split, cross_validate, GridSearchCV, learning_curve\n",
    "from sklearn.preprocessing import StandardScaler, MinMaxScaler\n",
    "from dataWrangler import *\n",
    "from sklearn.ensemble import RandomForestRegressor\n",
    "from scipy import stats\n",
    "from sklearn.linear_model import LinearRegression\n",
    "import pandas as pd\n",
    "from scrape_craigslist import Scrape\n",
    "from predictions import *\n",
    "import urllib.request\n",
    "import warnings\n",
    "warnings.filterwarnings('ignore')\n",
    "import requests\n",
    "import datetime\n",
    "import math\n",
    "import glob   \n",
    "from xgboost import XGBRegressor\n",
    "import os\n",
    "import io\n",
    "import re\n",
    "import numpy as np"
   ]
  },
  {
   "cell_type": "code",
   "execution_count": 342,
   "metadata": {},
   "outputs": [],
   "source": [
    "li=[]\n",
    "for filename in glob.glob(r\"..\\UsedCar-PriceEstimator\\data\\*.csv\"):\n",
    "    collection = pd.read_csv(filename, index_col=None, header=0)\n",
    "    li.append(collection)\n",
    "frame = pd.concat(li, axis=0, ignore_index=True)\n"
   ]
  },
  {
   "cell_type": "code",
   "execution_count": 343,
   "metadata": {},
   "outputs": [],
   "source": [
    "df=Replace(Spell(frame))"
   ]
  },
  {
   "cell_type": "code",
   "execution_count": 344,
   "metadata": {},
   "outputs": [],
   "source": [
    "inputcar='toyota corolla'"
   ]
  },
  {
   "cell_type": "code",
   "execution_count": 345,
   "metadata": {},
   "outputs": [],
   "source": [
    "df_make=Process(df,inputcar)"
   ]
  },
  {
   "cell_type": "code",
   "execution_count": 346,
   "metadata": {},
   "outputs": [],
   "source": [
    "df1=Outliers_light(df_make)\n",
    "df=delete_outliers(df1)"
   ]
  },
  {
   "cell_type": "code",
   "execution_count": 347,
   "metadata": {},
   "outputs": [
    {
     "data": {
      "text/plain": [
       "(1104, 4)"
      ]
     },
     "execution_count": 347,
     "metadata": {},
     "output_type": "execute_result"
    }
   ],
   "source": [
    "df.shape"
   ]
  },
  {
   "cell_type": "code",
   "execution_count": null,
   "metadata": {},
   "outputs": [],
   "source": []
  },
  {
   "cell_type": "code",
   "execution_count": 348,
   "metadata": {},
   "outputs": [],
   "source": [
    "df['score:'] = df['score:'].astype(int)\n",
    "df['score:'] = df['score:'].astype(str)\n",
    "df=pd.get_dummies(df)"
   ]
  },
  {
   "cell_type": "code",
   "execution_count": 349,
   "metadata": {},
   "outputs": [
    {
     "data": {
      "text/plain": [
       "(1104, 7)"
      ]
     },
     "execution_count": 349,
     "metadata": {},
     "output_type": "execute_result"
    }
   ],
   "source": [
    "df.shape"
   ]
  },
  {
   "cell_type": "code",
   "execution_count": 350,
   "metadata": {},
   "outputs": [
    {
     "data": {
      "text/html": [
       "<div>\n",
       "<style scoped>\n",
       "    .dataframe tbody tr th:only-of-type {\n",
       "        vertical-align: middle;\n",
       "    }\n",
       "\n",
       "    .dataframe tbody tr th {\n",
       "        vertical-align: top;\n",
       "    }\n",
       "\n",
       "    .dataframe thead th {\n",
       "        text-align: right;\n",
       "    }\n",
       "</style>\n",
       "<table border=\"1\" class=\"dataframe\">\n",
       "  <thead>\n",
       "    <tr style=\"text-align: right;\">\n",
       "      <th></th>\n",
       "      <th>year:</th>\n",
       "      <th>odometer:</th>\n",
       "      <th>price:</th>\n",
       "      <th>score:_0</th>\n",
       "      <th>score:_1</th>\n",
       "      <th>score:_2</th>\n",
       "      <th>score:_3</th>\n",
       "    </tr>\n",
       "  </thead>\n",
       "  <tbody>\n",
       "    <tr>\n",
       "      <th>0</th>\n",
       "      <td>16.0</td>\n",
       "      <td>209000.0</td>\n",
       "      <td>10.965784</td>\n",
       "      <td>0</td>\n",
       "      <td>0</td>\n",
       "      <td>1</td>\n",
       "      <td>0</td>\n",
       "    </tr>\n",
       "    <tr>\n",
       "      <th>1</th>\n",
       "      <td>6.0</td>\n",
       "      <td>36000.0</td>\n",
       "      <td>13.688250</td>\n",
       "      <td>0</td>\n",
       "      <td>0</td>\n",
       "      <td>1</td>\n",
       "      <td>0</td>\n",
       "    </tr>\n",
       "    <tr>\n",
       "      <th>2</th>\n",
       "      <td>20.0</td>\n",
       "      <td>91000.0</td>\n",
       "      <td>10.891784</td>\n",
       "      <td>0</td>\n",
       "      <td>1</td>\n",
       "      <td>0</td>\n",
       "      <td>0</td>\n",
       "    </tr>\n",
       "    <tr>\n",
       "      <th>3</th>\n",
       "      <td>15.0</td>\n",
       "      <td>139000.0</td>\n",
       "      <td>12.135709</td>\n",
       "      <td>0</td>\n",
       "      <td>0</td>\n",
       "      <td>0</td>\n",
       "      <td>1</td>\n",
       "    </tr>\n",
       "    <tr>\n",
       "      <th>4</th>\n",
       "      <td>26.0</td>\n",
       "      <td>162158.0</td>\n",
       "      <td>9.965784</td>\n",
       "      <td>0</td>\n",
       "      <td>0</td>\n",
       "      <td>1</td>\n",
       "      <td>0</td>\n",
       "    </tr>\n",
       "  </tbody>\n",
       "</table>\n",
       "</div>"
      ],
      "text/plain": [
       "   year:  odometer:     price:  score:_0  score:_1  score:_2  score:_3\n",
       "0   16.0   209000.0  10.965784         0         0         1         0\n",
       "1    6.0    36000.0  13.688250         0         0         1         0\n",
       "2   20.0    91000.0  10.891784         0         1         0         0\n",
       "3   15.0   139000.0  12.135709         0         0         0         1\n",
       "4   26.0   162158.0   9.965784         0         0         1         0"
      ]
     },
     "execution_count": 350,
     "metadata": {},
     "output_type": "execute_result"
    }
   ],
   "source": [
    "df.head()"
   ]
  },
  {
   "cell_type": "markdown",
   "metadata": {},
   "source": [
    "### xgboost"
   ]
  },
  {
   "cell_type": "code",
   "execution_count": 359,
   "metadata": {},
   "outputs": [
    {
     "ename": "SyntaxError",
     "evalue": "keyword argument repeated (<ipython-input-359-9045d721b13c>, line 13)",
     "output_type": "error",
     "traceback": [
      "\u001b[1;36m  File \u001b[1;32m\"<ipython-input-359-9045d721b13c>\"\u001b[1;36m, line \u001b[1;32m13\u001b[0m\n\u001b[1;33m    xgb =  XGBRegressor(learning_rate=0.1,gamma=0.5,max_depth=11,gamma=0.5,\u001b[0m\n\u001b[1;37m                                                                ^\u001b[0m\n\u001b[1;31mSyntaxError\u001b[0m\u001b[1;31m:\u001b[0m keyword argument repeated\n"
     ]
    }
   ],
   "source": [
    "X=df.drop(columns='price:')\n",
    "y=df['price:']\n",
    "\n",
    "train_features, test_features, train_labels, test_labels = \\\n",
    "train_test_split(X, y, test_size = 0.25, random_state = 30)\n",
    "\n",
    "\n",
    "scaler = StandardScaler()\n",
    "scaler.fit(train_features)\n",
    "\n",
    "\n",
    "\n",
    "xgb =  XGBRegressor(learning_rate=0.1,gamma=0.5,max_depth=11,gamma=0.5,\n",
    "                  eval_metric='mlogloss',n_estimators=100, eta=0.6, \n",
    "                   subsample=0.2, colsample_bytree=0.8)\n",
    "xgb.fit(train_features, train_labels);\n",
    "\n",
    "scaler.transform(test_features)\n",
    "\n",
    "# Calculate mean absolute percentage error (MAPE)\n",
    "y_pred=xgb.predict(test_features)\n",
    "errors=np.abs((test_labels - y_pred))\n",
    "mape = 100 * (errors / test_labels)\n",
    "accuracy = 100 - np.mean(mape)\n",
    "\n",
    "\n",
    "print(f'{inputcar} Accuracy:', round(accuracy, 2), '%.')\n",
    "\n"
   ]
  },
  {
   "cell_type": "code",
   "execution_count": 352,
   "metadata": {},
   "outputs": [
    {
     "name": "stdout",
     "output_type": "stream",
     "text": [
      "Fitting 5 folds for each of 4 candidates, totalling 20 fits\n",
      "[CV] n_estimators=50, max_depth=9, learning_rate=0.7, gamma=0.8 ......\n",
      "[13:11:30] WARNING: C:/Users/Administrator/workspace/xgboost-win64_release_1.4.0/src/objective/regression_obj.cu:171: reg:linear is now deprecated in favor of reg:squarederror.\n"
     ]
    },
    {
     "name": "stderr",
     "output_type": "stream",
     "text": [
      "[Parallel(n_jobs=1)]: Using backend SequentialBackend with 1 concurrent workers.\n"
     ]
    },
    {
     "name": "stdout",
     "output_type": "stream",
     "text": [
      "[CV]  n_estimators=50, max_depth=9, learning_rate=0.7, gamma=0.8, total=   0.3s\n",
      "[CV] n_estimators=50, max_depth=9, learning_rate=0.7, gamma=0.8 ......\n",
      "[13:11:30] WARNING: C:/Users/Administrator/workspace/xgboost-win64_release_1.4.0/src/objective/regression_obj.cu:171: reg:linear is now deprecated in favor of reg:squarederror.\n",
      "[CV]  n_estimators=50, max_depth=9, learning_rate=0.7, gamma=0.8, total=   0.2s"
     ]
    },
    {
     "name": "stderr",
     "output_type": "stream",
     "text": [
      "[Parallel(n_jobs=1)]: Done   1 out of   1 | elapsed:    0.2s remaining:    0.0s\n"
     ]
    },
    {
     "name": "stdout",
     "output_type": "stream",
     "text": [
      "\n",
      "[CV] n_estimators=50, max_depth=9, learning_rate=0.7, gamma=0.8 ......\n",
      "[13:11:30] WARNING: C:/Users/Administrator/workspace/xgboost-win64_release_1.4.0/src/objective/regression_obj.cu:171: reg:linear is now deprecated in favor of reg:squarederror.\n",
      "[CV]  n_estimators=50, max_depth=9, learning_rate=0.7, gamma=0.8, total=   0.2s\n",
      "[CV] n_estimators=50, max_depth=9, learning_rate=0.7, gamma=0.8 ......\n",
      "[13:11:30] WARNING: C:/Users/Administrator/workspace/xgboost-win64_release_1.4.0/src/objective/regression_obj.cu:171: reg:linear is now deprecated in favor of reg:squarederror.\n",
      "[CV]  n_estimators=50, max_depth=9, learning_rate=0.7, gamma=0.8, total=   0.2s\n",
      "[CV] n_estimators=50, max_depth=9, learning_rate=0.7, gamma=0.8 ......\n",
      "[13:11:31] WARNING: C:/Users/Administrator/workspace/xgboost-win64_release_1.4.0/src/objective/regression_obj.cu:171: reg:linear is now deprecated in favor of reg:squarederror.\n",
      "[CV]  n_estimators=50, max_depth=9, learning_rate=0.7, gamma=0.8, total=   0.2s\n",
      "[CV] n_estimators=100, max_depth=13, learning_rate=0.1, gamma=0.5 ....\n",
      "[13:11:31] WARNING: C:/Users/Administrator/workspace/xgboost-win64_release_1.4.0/src/objective/regression_obj.cu:171: reg:linear is now deprecated in favor of reg:squarederror.\n",
      "[CV]  n_estimators=100, max_depth=13, learning_rate=0.1, gamma=0.5, total=   0.5s\n",
      "[CV] n_estimators=100, max_depth=13, learning_rate=0.1, gamma=0.5 ....\n",
      "[13:11:31] WARNING: C:/Users/Administrator/workspace/xgboost-win64_release_1.4.0/src/objective/regression_obj.cu:171: reg:linear is now deprecated in favor of reg:squarederror.\n",
      "[CV]  n_estimators=100, max_depth=13, learning_rate=0.1, gamma=0.5, total=   0.4s\n",
      "[CV] n_estimators=100, max_depth=13, learning_rate=0.1, gamma=0.5 ....\n",
      "[13:11:32] WARNING: C:/Users/Administrator/workspace/xgboost-win64_release_1.4.0/src/objective/regression_obj.cu:171: reg:linear is now deprecated in favor of reg:squarederror.\n",
      "[CV]  n_estimators=100, max_depth=13, learning_rate=0.1, gamma=0.5, total=   0.4s\n",
      "[CV] n_estimators=100, max_depth=13, learning_rate=0.1, gamma=0.5 ....\n",
      "[13:11:32] WARNING: C:/Users/Administrator/workspace/xgboost-win64_release_1.4.0/src/objective/regression_obj.cu:171: reg:linear is now deprecated in favor of reg:squarederror.\n",
      "[CV]  n_estimators=100, max_depth=13, learning_rate=0.1, gamma=0.5, total=   0.5s\n",
      "[CV] n_estimators=100, max_depth=13, learning_rate=0.1, gamma=0.5 ....\n",
      "[13:11:33] WARNING: C:/Users/Administrator/workspace/xgboost-win64_release_1.4.0/src/objective/regression_obj.cu:171: reg:linear is now deprecated in favor of reg:squarederror.\n",
      "[CV]  n_estimators=100, max_depth=13, learning_rate=0.1, gamma=0.5, total=   0.5s\n",
      "[CV] n_estimators=10, max_depth=11, learning_rate=0.1, gamma=0.8 .....\n",
      "[13:11:33] WARNING: C:/Users/Administrator/workspace/xgboost-win64_release_1.4.0/src/objective/regression_obj.cu:171: reg:linear is now deprecated in favor of reg:squarederror.\n",
      "[CV]  n_estimators=10, max_depth=11, learning_rate=0.1, gamma=0.8, total=   0.0s\n",
      "[CV] n_estimators=10, max_depth=11, learning_rate=0.1, gamma=0.8 .....\n",
      "[13:11:33] WARNING: C:/Users/Administrator/workspace/xgboost-win64_release_1.4.0/src/objective/regression_obj.cu:171: reg:linear is now deprecated in favor of reg:squarederror.\n",
      "[CV]  n_estimators=10, max_depth=11, learning_rate=0.1, gamma=0.8, total=   0.0s\n",
      "[CV] n_estimators=10, max_depth=11, learning_rate=0.1, gamma=0.8 .....\n",
      "[13:11:33] WARNING: C:/Users/Administrator/workspace/xgboost-win64_release_1.4.0/src/objective/regression_obj.cu:171: reg:linear is now deprecated in favor of reg:squarederror.\n",
      "[CV]  n_estimators=10, max_depth=11, learning_rate=0.1, gamma=0.8, total=   0.0s\n",
      "[CV] n_estimators=10, max_depth=11, learning_rate=0.1, gamma=0.8 .....\n",
      "[13:11:33] WARNING: C:/Users/Administrator/workspace/xgboost-win64_release_1.4.0/src/objective/regression_obj.cu:171: reg:linear is now deprecated in favor of reg:squarederror.\n",
      "[CV]  n_estimators=10, max_depth=11, learning_rate=0.1, gamma=0.8, total=   0.0s\n",
      "[CV] n_estimators=10, max_depth=11, learning_rate=0.1, gamma=0.8 .....\n",
      "[13:11:33] WARNING: C:/Users/Administrator/workspace/xgboost-win64_release_1.4.0/src/objective/regression_obj.cu:171: reg:linear is now deprecated in favor of reg:squarederror.\n",
      "[CV]  n_estimators=10, max_depth=11, learning_rate=0.1, gamma=0.8, total=   0.0s\n",
      "[CV] n_estimators=85, max_depth=7, learning_rate=0.7, gamma=0.8 ......\n",
      "[13:11:33] WARNING: C:/Users/Administrator/workspace/xgboost-win64_release_1.4.0/src/objective/regression_obj.cu:171: reg:linear is now deprecated in favor of reg:squarederror.\n",
      "[CV]  n_estimators=85, max_depth=7, learning_rate=0.7, gamma=0.8, total=   0.3s\n",
      "[CV] n_estimators=85, max_depth=7, learning_rate=0.7, gamma=0.8 ......\n",
      "[13:11:34] WARNING: C:/Users/Administrator/workspace/xgboost-win64_release_1.4.0/src/objective/regression_obj.cu:171: reg:linear is now deprecated in favor of reg:squarederror.\n",
      "[CV]  n_estimators=85, max_depth=7, learning_rate=0.7, gamma=0.8, total=   0.3s\n",
      "[CV] n_estimators=85, max_depth=7, learning_rate=0.7, gamma=0.8 ......\n",
      "[13:11:34] WARNING: C:/Users/Administrator/workspace/xgboost-win64_release_1.4.0/src/objective/regression_obj.cu:171: reg:linear is now deprecated in favor of reg:squarederror.\n",
      "[CV]  n_estimators=85, max_depth=7, learning_rate=0.7, gamma=0.8, total=   0.3s\n",
      "[CV] n_estimators=85, max_depth=7, learning_rate=0.7, gamma=0.8 ......\n",
      "[13:11:34] WARNING: C:/Users/Administrator/workspace/xgboost-win64_release_1.4.0/src/objective/regression_obj.cu:171: reg:linear is now deprecated in favor of reg:squarederror.\n",
      "[CV]  n_estimators=85, max_depth=7, learning_rate=0.7, gamma=0.8, total=   0.2s\n",
      "[CV] n_estimators=85, max_depth=7, learning_rate=0.7, gamma=0.8 ......\n",
      "[13:11:35] WARNING: C:/Users/Administrator/workspace/xgboost-win64_release_1.4.0/src/objective/regression_obj.cu:171: reg:linear is now deprecated in favor of reg:squarederror.\n",
      "[CV]  n_estimators=85, max_depth=7, learning_rate=0.7, gamma=0.8, total=   0.2s\n",
      "[13:11:35] WARNING: C:/Users/Administrator/workspace/xgboost-win64_release_1.4.0/src/objective/regression_obj.cu:171: reg:linear is now deprecated in favor of reg:squarederror.\n"
     ]
    },
    {
     "name": "stderr",
     "output_type": "stream",
     "text": [
      "[Parallel(n_jobs=1)]: Done  20 out of  20 | elapsed:    5.0s finished\n"
     ]
    }
   ],
   "source": [
    "from sklearn.model_selection import RandomizedSearchCV\n",
    "\n",
    "\n",
    "xgb_param_grid = {'gamma':[0, 0.01,0.1,0.3,0.5,0.8,1],\n",
    "              'max_depth' : [3,5,7,9,11,13,15],\n",
    "               'learning_rate': [0.1,0.2,0.4,0.7,0.9],\n",
    "                'n_estimators' :[10,20,40,50,70,85,100,120]\n",
    "             }\n",
    "\n",
    "model = XGBRegressor(\n",
    "                    objective='reg:linear', \n",
    "                    subsample=1, \n",
    "                    scale_pos_weight=1, \n",
    "                    seed=2866) \n",
    "\n",
    "random_search = RandomizedSearchCV(model, \n",
    "                               param_distributions=xgb_param_grid,\n",
    "                               n_iter=4,\n",
    "                               verbose=2)\n",
    "fitted_model=random_search.fit(train_features, train_labels)"
   ]
  },
  {
   "cell_type": "code",
   "execution_count": 353,
   "metadata": {},
   "outputs": [
    {
     "data": {
      "text/plain": [
       "{'n_estimators': 100, 'max_depth': 13, 'learning_rate': 0.1, 'gamma': 0.5}"
      ]
     },
     "execution_count": 353,
     "metadata": {},
     "output_type": "execute_result"
    }
   ],
   "source": [
    "fitted_model.best_params_"
   ]
  },
  {
   "cell_type": "markdown",
   "metadata": {},
   "source": [
    "### random forest"
   ]
  },
  {
   "cell_type": "code",
   "execution_count": 358,
   "metadata": {},
   "outputs": [
    {
     "name": "stdout",
     "output_type": "stream",
     "text": [
      "toyota corolla Accuracy: 98.0 %.\n"
     ]
    }
   ],
   "source": [
    "X=df.drop(columns='price:')\n",
    "y=df['price:']\n",
    "\n",
    "train_features, test_features, train_labels, test_labels = \\\n",
    "train_test_split(X, y, test_size = 0.25, random_state = 55)\n",
    "\n",
    "\n",
    "scaler = StandardScaler()\n",
    "scaler.fit(train_features)\n",
    "\n",
    "\n",
    "rf1 = RandomForestRegressor(n_estimators=94,\n",
    "                            min_samples_split=10,\n",
    "                            max_depth=70)\n",
    "rf1.fit(train_features, train_labels);\n",
    "\n",
    "scaler.transform(test_features)\n",
    "\n",
    "# Calculate mean absolute percentage error (MAPE)\n",
    "y_pred=rf1.predict(test_features)\n",
    "errors=np.abs((test_labels - y_pred))\n",
    "mape = 100 * (errors / test_labels)\n",
    "accuracy = 100 - np.mean(mape)\n",
    "print(f'{inputcar} Accuracy:', round(accuracy, 2), '%.')"
   ]
  },
  {
   "cell_type": "code",
   "execution_count": 355,
   "metadata": {},
   "outputs": [],
   "source": [
    "\n",
    "n_estimators = [int(x) for x in np.linspace(start = 10, stop = 200, num = 10)]\n",
    "\n",
    "max_features = ['auto', 'sqrt']\n",
    "\n",
    "max_depth = [int(x) for x in np.linspace(10, 110, num = 11)]\n",
    "\n",
    "min_samples_split = [2, 5, 10]\n",
    "\n",
    "min_samples_leaf = [1, 2, 4]\n",
    "\n",
    "bootstrap = [True, False]# Create the random grid\n",
    "\n",
    "random_grid = {'n_estimators': n_estimators,\n",
    "               'max_features': max_features,\n",
    "               'max_depth': max_depth,\n",
    "               'min_samples_split': min_samples_split,\n",
    "               'min_samples_leaf': min_samples_leaf,\n",
    "               'bootstrap': bootstrap}\n",
    "\n",
    "\n",
    "rf = RandomForestRegressor()\n",
    "\n",
    "\n",
    "rf_random = RandomizedSearchCV(rf, param_distributions = random_grid,\n",
    "                               n_iter = 8, cv = 5,\n",
    "                               random_state=42)\n",
    "\n",
    "fitted_randomforest=rf_random.fit(train_features, train_labels)\n",
    "\n"
   ]
  },
  {
   "cell_type": "code",
   "execution_count": 356,
   "metadata": {},
   "outputs": [
    {
     "data": {
      "text/plain": [
       "{'n_estimators': 94,\n",
       " 'min_samples_split': 10,\n",
       " 'min_samples_leaf': 1,\n",
       " 'max_features': 'sqrt',\n",
       " 'max_depth': 70,\n",
       " 'bootstrap': False}"
      ]
     },
     "execution_count": 356,
     "metadata": {},
     "output_type": "execute_result"
    }
   ],
   "source": [
    "fitted_randomforest.best_params_"
   ]
  },
  {
   "cell_type": "markdown",
   "metadata": {},
   "source": [
    "### linear regression"
   ]
  },
  {
   "cell_type": "code",
   "execution_count": 357,
   "metadata": {},
   "outputs": [
    {
     "name": "stdout",
     "output_type": "stream",
     "text": [
      "toyota corolla Accuracy: 97.85 %.\n"
     ]
    }
   ],
   "source": [
    "X=df.drop(columns='price:')\n",
    "y=df['price:']\n",
    "\n",
    "train_features, test_features, train_labels, test_labels = \\\n",
    "train_test_split(X, y, test_size = 0.25, random_state = 32)\n",
    "\n",
    "\n",
    "scaler = StandardScaler()\n",
    "scaler.fit(train_features)\n",
    "\n",
    "\n",
    "reg = LinearRegression()\n",
    "reg.fit(train_features, train_labels);\n",
    "\n",
    "\n",
    "# Calculate mean absolute percentage error (MAPE)\n",
    "y_pred=reg.predict(test_features)\n",
    "errors=np.abs((test_labels - y_pred))\n",
    "mape = 100 * (errors / test_labels)\n",
    "accuracy = 100 - np.mean(mape)\n",
    "print(f'{inputcar} Accuracy:', round(accuracy, 2), '%.')"
   ]
  },
  {
   "cell_type": "code",
   "execution_count": null,
   "metadata": {},
   "outputs": [],
   "source": []
  },
  {
   "cell_type": "code",
   "execution_count": null,
   "metadata": {},
   "outputs": [],
   "source": []
  }
 ],
 "metadata": {
  "kernelspec": {
   "display_name": "Python 3",
   "language": "python",
   "name": "python3"
  },
  "language_info": {
   "codemirror_mode": {
    "name": "ipython",
    "version": 3
   },
   "file_extension": ".py",
   "mimetype": "text/x-python",
   "name": "python",
   "nbconvert_exporter": "python",
   "pygments_lexer": "ipython3",
   "version": "3.7.0"
  }
 },
 "nbformat": 4,
 "nbformat_minor": 4
}
