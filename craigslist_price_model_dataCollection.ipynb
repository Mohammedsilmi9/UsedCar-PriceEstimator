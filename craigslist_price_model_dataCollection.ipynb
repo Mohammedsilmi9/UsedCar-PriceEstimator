{
 "cells": [
  {
   "cell_type": "code",
   "execution_count": 4,
   "metadata": {},
   "outputs": [],
   "source": [
    "from bs4 import BeautifulSoup\n",
    "from scrape_craigslist import Scrape\n",
    "from pandas import DataFrame\n",
    "from time import sleep\n",
    "import urllib.request\n",
    "import pandas as pd\n",
    "import numpy as np\n",
    "import requests\n",
    "import datetime\n",
    "import os\n",
    "import io\n",
    "import re"
   ]
  },
  {
   "cell_type": "code",
   "execution_count": 29,
   "metadata": {},
   "outputs": [],
   "source": [
    "location='chico'"
   ]
  },
  {
   "cell_type": "code",
   "execution_count": 30,
   "metadata": {},
   "outputs": [],
   "source": [
    "url = f'https://{location}.craigslist.org/d/cars-trucks-by-owner/search/cto'\n",
    "Links=[]\n",
    "page = requests.get(url)\n",
    "soup = BeautifulSoup(page.text, \"html.parser\")\n",
    "total_posts=int(soup.find(\"span\", {\"class\": \"total\"}).text)\n",
    "fraction=total_posts%120"
   ]
  },
  {
   "cell_type": "code",
   "execution_count": 31,
   "metadata": {},
   "outputs": [],
   "source": [
    "\n",
    "final_links=[]\n",
    "\n",
    "for i in range(0,total_posts-fraction,120):\n",
    "    try:\n",
    "        url = f'https://{location}.craigslist.org/d/cars-trucks-by-owner/search/cto?s={i}'\n",
    "        Links=[]\n",
    "        page = requests.get(url)\n",
    "        soup = BeautifulSoup(page.text, \"html.parser\")\n",
    "        for link in soup.findAll('a', attrs={'href': re.compile(\"^https://\")}):\n",
    "            Links.append(link.get('href'))\n",
    "    \n",
    "        for i in range(9, 249):\n",
    "            if i%2==0:\n",
    "                final_links.append(Links[i])\n",
    "    except:\n",
    "        continue\n",
    "            "
   ]
  },
  {
   "cell_type": "code",
   "execution_count": 32,
   "metadata": {},
   "outputs": [
    {
     "data": {
      "text/plain": [
       "240"
      ]
     },
     "execution_count": 32,
     "metadata": {},
     "output_type": "execute_result"
    }
   ],
   "source": [
    "len(final_links)"
   ]
  },
  {
   "cell_type": "code",
   "execution_count": 33,
   "metadata": {},
   "outputs": [],
   "source": [
    "df_=Scrape(final_links)\n"
   ]
  },
  {
   "cell_type": "code",
   "execution_count": 34,
   "metadata": {},
   "outputs": [],
   "source": [
    "df_final=df_.dropna(axis=0, thresh=2, subset=['year:','make:','model:','trim:'], inplace=False)"
   ]
  },
  {
   "cell_type": "code",
   "execution_count": 35,
   "metadata": {},
   "outputs": [],
   "source": [
    "ct = datetime.datetime.now() \n",
    "name=str(ct)\n",
    "date=name[0:-7].replace(\":\",'_')\n",
    "date.replace(\" \",'_')\n",
    "df_final.to_csv(rf'C:\\Users\\Silmi\\Desktop\\UsedCar-PriceEstimator\\data\\craigslist_{location}_{date}.csv')"
   ]
  },
  {
   "cell_type": "code",
   "execution_count": null,
   "metadata": {},
   "outputs": [],
   "source": []
  }
 ],
 "metadata": {
  "kernelspec": {
   "display_name": "Python 3",
   "language": "python",
   "name": "python3"
  },
  "language_info": {
   "codemirror_mode": {
    "name": "ipython",
    "version": 3
   },
   "file_extension": ".py",
   "mimetype": "text/x-python",
   "name": "python",
   "nbconvert_exporter": "python",
   "pygments_lexer": "ipython3",
   "version": "3.7.0"
  }
 },
 "nbformat": 4,
 "nbformat_minor": 4
}
