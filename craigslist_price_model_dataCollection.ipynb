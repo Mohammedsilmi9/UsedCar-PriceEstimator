{
 "cells": [
  {
   "cell_type": "code",
   "execution_count": 1,
   "metadata": {},
   "outputs": [],
   "source": [
    "from bs4 import BeautifulSoup\n",
    "from pandas import DataFrame\n",
    "from time import sleep\n",
    "import urllib.request\n",
    "import pandas as pd\n",
    "import numpy as np\n",
    "import requests\n",
    "import datetime\n",
    "import requests\n",
    "import os\n",
    "import io\n",
    "import re"
   ]
  },
  {
   "cell_type": "code",
   "execution_count": 2,
   "metadata": {},
   "outputs": [],
   "source": [
    "location='sfbay'"
   ]
  },
  {
   "cell_type": "code",
   "execution_count": 3,
   "metadata": {},
   "outputs": [],
   "source": [
    "url = f'https://{location}.craigslist.org/d/cars-trucks-by-owner/search/cto'\n",
    "Links=[]\n",
    "page = requests.get(url)\n",
    "soup = BeautifulSoup(page.text, \"html.parser\")\n",
    "total_posts=int(soup.find(\"span\", {\"class\": \"total\"}).text)\n",
    "fraction=total_posts%120"
   ]
  },
  {
   "cell_type": "code",
   "execution_count": 4,
   "metadata": {},
   "outputs": [],
   "source": [
    "\n",
    "final_links=[]\n",
    "\n",
    "for i in range(0,total_posts-fraction,120):\n",
    "    url = f'https://{location}.craigslist.org/d/cars-trucks-by-owner/search/cto?s={i}'\n",
    "    Links=[]\n",
    "    page = requests.get(url)\n",
    "    soup = BeautifulSoup(page.text, \"html.parser\")\n",
    "    for link in soup.findAll('a', attrs={'href': re.compile(\"^https://\")}):\n",
    "        Links.append(link.get('href'))\n",
    "    \n",
    "    for i in range(9, 249):\n",
    "        if i%2==0:\n",
    "            final_links.append(Links[i])\n",
    "            "
   ]
  },
  {
   "cell_type": "code",
   "execution_count": 5,
   "metadata": {},
   "outputs": [
    {
     "data": {
      "text/plain": [
       "3000"
      ]
     },
     "execution_count": 5,
     "metadata": {},
     "output_type": "execute_result"
    }
   ],
   "source": [
    "len(final_links)"
   ]
  },
  {
   "cell_type": "code",
   "execution_count": 6,
   "metadata": {},
   "outputs": [],
   "source": [
    "spec_list=[]\n",
    "title_list=[]\n",
    "price_list=[]\n",
    "\n",
    "for lin in final_links:\n",
    "    try:\n",
    "        page = requests.get(lin)\n",
    "        soup = BeautifulSoup(page.text, \"html.parser\")\n",
    "        spec_list.append(soup.find_all(\"p\", {\"class\": \"attrgroup\"})[1].text.strip('\\n').replace(\"\\n\",\" \").split(\" \"))\n",
    "        title_list.append(soup.find_all(\"p\", {\"class\": \"attrgroup\"})[0].text.strip('\\n'))\n",
    "        price_list.append(str(soup.find(\"span\", {\"class\": \"price\"})).strip('$').replace(',',\"\"))\n",
    "    except:\n",
    "        continue\n"
   ]
  },
  {
   "cell_type": "code",
   "execution_count": 7,
   "metadata": {},
   "outputs": [],
   "source": [
    "df_=pd.DataFrame(columns=['year:','make:','model:','trim:','VIN:','condition:','odometer:',\n",
    "                          'cylinders:','color:','transmission:',\n",
    "                          'type:','status:','drive:','fuel:','price:'])\n"
   ]
  },
  {
   "cell_type": "code",
   "execution_count": 8,
   "metadata": {},
   "outputs": [],
   "source": [
    "for i,title in enumerate(title_list):\n",
    "    if(len(title.split())>=4 and not(title.split()[1].isnumeric())):\n",
    "            df_.loc[f'{i}','year:']=title.split()[0]\n",
    "            df_.loc[f'{i}','make:']=title.split()[1]\n",
    "            df_.loc[f'{i}','model:']=title.split()[2]\n",
    "            df_.loc[f'{i}','trim:']=title.split()[3]\n",
    "    if(len(title.split())==3 and not(title.split()[1].isnumeric())):\n",
    "            df_.loc[f'{i}','year:']=title.split()[0]\n",
    "            df_.loc[f'{i}','make:']=title.split()[1]\n",
    "            df_.loc[f'{i}','model:']=title.split()[2]\n",
    "            df_.loc[f'{i}','trim:']= np.nan\n",
    "    if(len(title.split())==4 and title.split()[1].isnumeric()):\n",
    "            df_.loc[f'{i}','year:']=title.split()[0]\n",
    "            df_.loc[f'{i}','make:']=title.split()[2]\n",
    "            df_.loc[f'{i}','model:']=title.split()[3]\n",
    "            df_.loc[f'{i}','trim:']= np.nan\n",
    "    if(len(title.split())>=5 and title.split()[1].isnumeric()):\n",
    "            df_.loc[f'{i}','year:']=title.split()[0]\n",
    "            df_.loc[f'{i}','make:']=title.split()[2]\n",
    "            df_.loc[f'{i}','model:']=title.split()[3]\n",
    "            df_.loc[f'{i}','trim:']= title.split()[4]\n",
    "            "
   ]
  },
  {
   "cell_type": "code",
   "execution_count": 9,
   "metadata": {},
   "outputs": [],
   "source": [
    "for i,temp in enumerate(spec_list):\n",
    "    for word in temp:\n",
    "        if(word=='VIN:'):\n",
    "            df_.loc[f'{i}','VIN:']=temp[temp.index(word)+1]    \n",
    "        if(word=='condition:'):\n",
    "             df_.loc[f'{i}','condition:']=temp[temp.index(word)+1] \n",
    "        if(word=='odometer:'):\n",
    "            df_.loc[f'{i}','odometer:']=temp[temp.index(word)+1]\n",
    "        if(word=='cylinders:'):\n",
    "             df_.loc[f'{i}','cylinders:']=temp[temp.index(word)+1]\n",
    "        if(word=='color:'):\n",
    "             df_.loc[f'{i}','color:']=temp[temp.index(word)+1]\n",
    "        if(word=='transmission:'):\n",
    "             df_.loc[f'{i}','transmission:']=temp[temp.index(word)+1]\n",
    "        if(word=='type:'):\n",
    "             df_.loc[f'{i}','type:']=temp[temp.index(word)+1]\n",
    "        if(word=='status:'):\n",
    "             df_.loc[f'{i}','status:']=temp[temp.index(word)+1]\n",
    "        if(word=='drive:'):\n",
    "             df_.loc[f'{i}','drive:']=temp[temp.index(word)+1] \n",
    "        if(word=='fuel:'):\n",
    "             df_.loc[f'{i}','fuel:']=temp[temp.index(word)+1]\n",
    "                          "
   ]
  },
  {
   "cell_type": "code",
   "execution_count": 10,
   "metadata": {
    "scrolled": true
   },
   "outputs": [],
   "source": [
    "for i,p in enumerate(price_list):\n",
    "    df_.loc[f'{i}','price:']=p"
   ]
  },
  {
   "cell_type": "code",
   "execution_count": 11,
   "metadata": {},
   "outputs": [],
   "source": [
    "df_['price:']=df_['price:'].apply(lambda x: x[21:-7])\n",
    "df_['price:'] = pd.to_numeric(df_['price:'])\n",
    "df_['year:'] = pd.to_numeric(df_['year:'])\n",
    "df_['odometer:'] = pd.to_numeric(df_['odometer:'])"
   ]
  },
  {
   "cell_type": "code",
   "execution_count": 12,
   "metadata": {},
   "outputs": [
    {
     "data": {
      "text/plain": [
       "(2997, 15)"
      ]
     },
     "execution_count": 12,
     "metadata": {},
     "output_type": "execute_result"
    }
   ],
   "source": [
    "df_.shape"
   ]
  },
  {
   "cell_type": "code",
   "execution_count": 13,
   "metadata": {},
   "outputs": [],
   "source": [
    "df_final=df_.dropna(axis=0, thresh=2, subset=['year:','make:','model:','trim:'], inplace=False)"
   ]
  },
  {
   "cell_type": "code",
   "execution_count": 14,
   "metadata": {},
   "outputs": [
    {
     "data": {
      "text/plain": [
       "(2913, 15)"
      ]
     },
     "execution_count": 14,
     "metadata": {},
     "output_type": "execute_result"
    }
   ],
   "source": [
    "df_final.shape"
   ]
  },
  {
   "cell_type": "code",
   "execution_count": 15,
   "metadata": {},
   "outputs": [],
   "source": [
    "ct = datetime.datetime.now() \n",
    "name=str(ct)\n",
    "date=name[0:-7].replace(\":\",'_')\n",
    "date.replace(\" \",'_')\n",
    "df_final.to_csv(rf'C:\\Users\\Silmi\\Desktop\\UsedCar-PriceEstimator\\data\\craigslist_{date}.csv')"
   ]
  },
  {
   "cell_type": "code",
   "execution_count": null,
   "metadata": {},
   "outputs": [],
   "source": []
  }
 ],
 "metadata": {
  "kernelspec": {
   "display_name": "Python 3",
   "language": "python",
   "name": "python3"
  },
  "language_info": {
   "codemirror_mode": {
    "name": "ipython",
    "version": 3
   },
   "file_extension": ".py",
   "mimetype": "text/x-python",
   "name": "python",
   "nbconvert_exporter": "python",
   "pygments_lexer": "ipython3",
   "version": "3.7.0"
  }
 },
 "nbformat": 4,
 "nbformat_minor": 4
}
